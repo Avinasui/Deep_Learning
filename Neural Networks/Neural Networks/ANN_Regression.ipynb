{
  "cells": [
    {
      "cell_type": "code",
      "execution_count": 18,
      "metadata": {
        "id": "PnxWwv-MC02O"
      },
      "outputs": [],
      "source": [
        "import pandas as pd\n",
        "import matplotlib.pyplot as plt"
      ]
    },
    {
      "cell_type": "code",
      "execution_count": 19,
      "metadata": {
        "colab": {
          "base_uri": "https://localhost:8080/",
          "height": 206
        },
        "id": "DWxdS8qvQIcY",
        "outputId": "ae14b36c-da1e-42e6-89ef-880f366565b1"
      },
      "outputs": [
        {
          "data": {
            "text/html": [
              "<div>\n",
              "<style scoped>\n",
              "    .dataframe tbody tr th:only-of-type {\n",
              "        vertical-align: middle;\n",
              "    }\n",
              "\n",
              "    .dataframe tbody tr th {\n",
              "        vertical-align: top;\n",
              "    }\n",
              "\n",
              "    .dataframe thead th {\n",
              "        text-align: right;\n",
              "    }\n",
              "</style>\n",
              "<table border=\"1\" class=\"dataframe\">\n",
              "  <thead>\n",
              "    <tr style=\"text-align: right;\">\n",
              "      <th></th>\n",
              "      <th>R&amp;D Spend</th>\n",
              "      <th>Administration</th>\n",
              "      <th>Marketing Spend</th>\n",
              "      <th>State</th>\n",
              "      <th>Profit</th>\n",
              "    </tr>\n",
              "  </thead>\n",
              "  <tbody>\n",
              "    <tr>\n",
              "      <th>0</th>\n",
              "      <td>165349.20</td>\n",
              "      <td>136897.80</td>\n",
              "      <td>471784.10</td>\n",
              "      <td>New York</td>\n",
              "      <td>192261.83</td>\n",
              "    </tr>\n",
              "    <tr>\n",
              "      <th>1</th>\n",
              "      <td>162597.70</td>\n",
              "      <td>151377.59</td>\n",
              "      <td>443898.53</td>\n",
              "      <td>California</td>\n",
              "      <td>191792.06</td>\n",
              "    </tr>\n",
              "    <tr>\n",
              "      <th>2</th>\n",
              "      <td>153441.51</td>\n",
              "      <td>101145.55</td>\n",
              "      <td>407934.54</td>\n",
              "      <td>Florida</td>\n",
              "      <td>191050.39</td>\n",
              "    </tr>\n",
              "    <tr>\n",
              "      <th>3</th>\n",
              "      <td>144372.41</td>\n",
              "      <td>118671.85</td>\n",
              "      <td>383199.62</td>\n",
              "      <td>New York</td>\n",
              "      <td>182901.99</td>\n",
              "    </tr>\n",
              "    <tr>\n",
              "      <th>4</th>\n",
              "      <td>142107.34</td>\n",
              "      <td>91391.77</td>\n",
              "      <td>366168.42</td>\n",
              "      <td>Florida</td>\n",
              "      <td>166187.94</td>\n",
              "    </tr>\n",
              "  </tbody>\n",
              "</table>\n",
              "</div>"
            ],
            "text/plain": [
              "   R&D Spend  Administration  Marketing Spend       State     Profit\n",
              "0  165349.20       136897.80        471784.10    New York  192261.83\n",
              "1  162597.70       151377.59        443898.53  California  191792.06\n",
              "2  153441.51       101145.55        407934.54     Florida  191050.39\n",
              "3  144372.41       118671.85        383199.62    New York  182901.99\n",
              "4  142107.34        91391.77        366168.42     Florida  166187.94"
            ]
          },
          "execution_count": 19,
          "metadata": {},
          "output_type": "execute_result"
        }
      ],
      "source": [
        "df = pd.read_csv('C:\\\\Users\\\\varun\\\\OneDrive\\\\Desktop\\\\Fall Sem\\\\Smart Internz AI&ML\\\\7_Deployment_models\\\\50_startup\\\\50_Startups.csv')\n",
        "df.head()"
      ]
    },
    {
      "cell_type": "code",
      "execution_count": 20,
      "metadata": {
        "colab": {
          "base_uri": "https://localhost:8080/"
        },
        "id": "3KmYCJa8QSgL",
        "outputId": "bfade9a9-de09-4534-a2ff-6c7c12b4e7e0"
      },
      "outputs": [
        {
          "data": {
            "text/plain": [
              "(108, 5)"
            ]
          },
          "execution_count": 20,
          "metadata": {},
          "output_type": "execute_result"
        }
      ],
      "source": [
        "df.shape"
      ]
    },
    {
      "cell_type": "code",
      "execution_count": 21,
      "metadata": {
        "colab": {
          "base_uri": "https://localhost:8080/"
        },
        "id": "hWX4BXovQoMw",
        "outputId": "941e1525-c005-4d5b-fda8-413d1a283c3e"
      },
      "outputs": [
        {
          "name": "stdout",
          "output_type": "stream",
          "text": [
            "<class 'pandas.core.frame.DataFrame'>\n",
            "RangeIndex: 108 entries, 0 to 107\n",
            "Data columns (total 5 columns):\n",
            " #   Column           Non-Null Count  Dtype  \n",
            "---  ------           --------------  -----  \n",
            " 0   R&D Spend        108 non-null    float64\n",
            " 1   Administration   108 non-null    float64\n",
            " 2   Marketing Spend  108 non-null    float64\n",
            " 3   State            108 non-null    object \n",
            " 4   Profit           108 non-null    float64\n",
            "dtypes: float64(4), object(1)\n",
            "memory usage: 4.3+ KB\n"
          ]
        }
      ],
      "source": [
        "df.info()"
      ]
    },
    {
      "cell_type": "code",
      "execution_count": 22,
      "metadata": {
        "colab": {
          "base_uri": "https://localhost:8080/"
        },
        "id": "rcn1ltqXQrOX",
        "outputId": "938a3c65-42a7-4b4d-f952-ca68fc78fe3e"
      },
      "outputs": [
        {
          "data": {
            "text/plain": [
              "R&D Spend          0\n",
              "Administration     0\n",
              "Marketing Spend    0\n",
              "State              0\n",
              "Profit             0\n",
              "dtype: int64"
            ]
          },
          "execution_count": 22,
          "metadata": {},
          "output_type": "execute_result"
        }
      ],
      "source": [
        "df.isnull().sum()"
      ]
    },
    {
      "cell_type": "code",
      "execution_count": 23,
      "metadata": {
        "colab": {
          "base_uri": "https://localhost:8080/",
          "height": 206
        },
        "id": "2tHtN5FtQysH",
        "outputId": "909743db-2a38-4362-e34f-994aaec09ac5"
      },
      "outputs": [
        {
          "data": {
            "text/html": [
              "<div>\n",
              "<style scoped>\n",
              "    .dataframe tbody tr th:only-of-type {\n",
              "        vertical-align: middle;\n",
              "    }\n",
              "\n",
              "    .dataframe tbody tr th {\n",
              "        vertical-align: top;\n",
              "    }\n",
              "\n",
              "    .dataframe thead th {\n",
              "        text-align: right;\n",
              "    }\n",
              "</style>\n",
              "<table border=\"1\" class=\"dataframe\">\n",
              "  <thead>\n",
              "    <tr style=\"text-align: right;\">\n",
              "      <th></th>\n",
              "      <th>R&amp;D Spend</th>\n",
              "      <th>Administration</th>\n",
              "      <th>Marketing Spend</th>\n",
              "      <th>State</th>\n",
              "      <th>Profit</th>\n",
              "    </tr>\n",
              "  </thead>\n",
              "  <tbody>\n",
              "    <tr>\n",
              "      <th>0</th>\n",
              "      <td>165349.20</td>\n",
              "      <td>136897.80</td>\n",
              "      <td>471784.10</td>\n",
              "      <td>New York</td>\n",
              "      <td>192261.83</td>\n",
              "    </tr>\n",
              "    <tr>\n",
              "      <th>1</th>\n",
              "      <td>162597.70</td>\n",
              "      <td>151377.59</td>\n",
              "      <td>443898.53</td>\n",
              "      <td>California</td>\n",
              "      <td>191792.06</td>\n",
              "    </tr>\n",
              "    <tr>\n",
              "      <th>2</th>\n",
              "      <td>153441.51</td>\n",
              "      <td>101145.55</td>\n",
              "      <td>407934.54</td>\n",
              "      <td>Florida</td>\n",
              "      <td>191050.39</td>\n",
              "    </tr>\n",
              "    <tr>\n",
              "      <th>3</th>\n",
              "      <td>144372.41</td>\n",
              "      <td>118671.85</td>\n",
              "      <td>383199.62</td>\n",
              "      <td>New York</td>\n",
              "      <td>182901.99</td>\n",
              "    </tr>\n",
              "    <tr>\n",
              "      <th>4</th>\n",
              "      <td>142107.34</td>\n",
              "      <td>91391.77</td>\n",
              "      <td>366168.42</td>\n",
              "      <td>Florida</td>\n",
              "      <td>166187.94</td>\n",
              "    </tr>\n",
              "  </tbody>\n",
              "</table>\n",
              "</div>"
            ],
            "text/plain": [
              "   R&D Spend  Administration  Marketing Spend       State     Profit\n",
              "0  165349.20       136897.80        471784.10    New York  192261.83\n",
              "1  162597.70       151377.59        443898.53  California  191792.06\n",
              "2  153441.51       101145.55        407934.54     Florida  191050.39\n",
              "3  144372.41       118671.85        383199.62    New York  182901.99\n",
              "4  142107.34        91391.77        366168.42     Florida  166187.94"
            ]
          },
          "execution_count": 23,
          "metadata": {},
          "output_type": "execute_result"
        }
      ],
      "source": [
        "df.head()"
      ]
    },
    {
      "cell_type": "markdown",
      "metadata": {},
      "source": [
        "# Encoding"
      ]
    },
    {
      "cell_type": "code",
      "execution_count": 24,
      "metadata": {
        "id": "uNAO4JKuQ3Rz"
      },
      "outputs": [],
      "source": [
        "from sklearn.preprocessing import LabelEncoder\n",
        "le =LabelEncoder()"
      ]
    },
    {
      "cell_type": "code",
      "execution_count": 25,
      "metadata": {
        "id": "orNiSr0oRA3t"
      },
      "outputs": [],
      "source": [
        "df['State'] = le.fit_transform(df.State)"
      ]
    },
    {
      "cell_type": "code",
      "execution_count": 26,
      "metadata": {
        "colab": {
          "base_uri": "https://localhost:8080/",
          "height": 206
        },
        "id": "eqVKFJq5RMSc",
        "outputId": "9e5cb9f2-1716-4148-cac0-d7d9170cabf9"
      },
      "outputs": [
        {
          "data": {
            "text/html": [
              "<div>\n",
              "<style scoped>\n",
              "    .dataframe tbody tr th:only-of-type {\n",
              "        vertical-align: middle;\n",
              "    }\n",
              "\n",
              "    .dataframe tbody tr th {\n",
              "        vertical-align: top;\n",
              "    }\n",
              "\n",
              "    .dataframe thead th {\n",
              "        text-align: right;\n",
              "    }\n",
              "</style>\n",
              "<table border=\"1\" class=\"dataframe\">\n",
              "  <thead>\n",
              "    <tr style=\"text-align: right;\">\n",
              "      <th></th>\n",
              "      <th>R&amp;D Spend</th>\n",
              "      <th>Administration</th>\n",
              "      <th>Marketing Spend</th>\n",
              "      <th>State</th>\n",
              "      <th>Profit</th>\n",
              "    </tr>\n",
              "  </thead>\n",
              "  <tbody>\n",
              "    <tr>\n",
              "      <th>0</th>\n",
              "      <td>165349.20</td>\n",
              "      <td>136897.80</td>\n",
              "      <td>471784.10</td>\n",
              "      <td>2</td>\n",
              "      <td>192261.83</td>\n",
              "    </tr>\n",
              "    <tr>\n",
              "      <th>1</th>\n",
              "      <td>162597.70</td>\n",
              "      <td>151377.59</td>\n",
              "      <td>443898.53</td>\n",
              "      <td>0</td>\n",
              "      <td>191792.06</td>\n",
              "    </tr>\n",
              "    <tr>\n",
              "      <th>2</th>\n",
              "      <td>153441.51</td>\n",
              "      <td>101145.55</td>\n",
              "      <td>407934.54</td>\n",
              "      <td>1</td>\n",
              "      <td>191050.39</td>\n",
              "    </tr>\n",
              "    <tr>\n",
              "      <th>3</th>\n",
              "      <td>144372.41</td>\n",
              "      <td>118671.85</td>\n",
              "      <td>383199.62</td>\n",
              "      <td>2</td>\n",
              "      <td>182901.99</td>\n",
              "    </tr>\n",
              "    <tr>\n",
              "      <th>4</th>\n",
              "      <td>142107.34</td>\n",
              "      <td>91391.77</td>\n",
              "      <td>366168.42</td>\n",
              "      <td>1</td>\n",
              "      <td>166187.94</td>\n",
              "    </tr>\n",
              "  </tbody>\n",
              "</table>\n",
              "</div>"
            ],
            "text/plain": [
              "   R&D Spend  Administration  Marketing Spend  State     Profit\n",
              "0  165349.20       136897.80        471784.10      2  192261.83\n",
              "1  162597.70       151377.59        443898.53      0  191792.06\n",
              "2  153441.51       101145.55        407934.54      1  191050.39\n",
              "3  144372.41       118671.85        383199.62      2  182901.99\n",
              "4  142107.34        91391.77        366168.42      1  166187.94"
            ]
          },
          "execution_count": 26,
          "metadata": {},
          "output_type": "execute_result"
        }
      ],
      "source": [
        "df.head()"
      ]
    },
    {
      "cell_type": "markdown",
      "metadata": {},
      "source": [
        "# X and Y declaration"
      ]
    },
    {
      "cell_type": "code",
      "execution_count": 27,
      "metadata": {
        "id": "Qwqjqve9RN3s"
      },
      "outputs": [],
      "source": [
        "X =df.iloc[:,:-1].values"
      ]
    },
    {
      "cell_type": "code",
      "execution_count": 28,
      "metadata": {
        "id": "-RBOhfrNRcCj"
      },
      "outputs": [],
      "source": [
        "y= df.iloc[:,4:5].values"
      ]
    },
    {
      "cell_type": "markdown",
      "metadata": {},
      "source": [
        "# Train Test split"
      ]
    },
    {
      "cell_type": "code",
      "execution_count": 29,
      "metadata": {
        "id": "oQDWKsPWRiyw"
      },
      "outputs": [],
      "source": [
        "from sklearn.model_selection import train_test_split\n",
        "x_train,x_test,y_train,y_test = train_test_split(X,y,test_size=0.3,random_state=0)"
      ]
    },
    {
      "cell_type": "code",
      "execution_count": 30,
      "metadata": {
        "colab": {
          "base_uri": "https://localhost:8080/"
        },
        "id": "iivT4GuoSXds",
        "outputId": "34bfaa07-3b2d-470a-8fae-7bc1cb580141"
      },
      "outputs": [
        {
          "data": {
            "text/plain": [
              "((75, 4), (33, 4))"
            ]
          },
          "execution_count": 30,
          "metadata": {},
          "output_type": "execute_result"
        }
      ],
      "source": [
        "x_train.shape, x_test.shape"
      ]
    },
    {
      "cell_type": "markdown",
      "metadata": {},
      "source": [
        "# Model Definition"
      ]
    },
    {
      "cell_type": "code",
      "execution_count": 31,
      "metadata": {
        "id": "peL2UevCSXf2"
      },
      "outputs": [],
      "source": [
        "from tensorflow.keras.models import Sequential\n",
        "from tensorflow.keras.layers import Dense"
      ]
    },
    {
      "cell_type": "code",
      "execution_count": 32,
      "metadata": {
        "id": "1eX2Cc2HSXjQ"
      },
      "outputs": [],
      "source": [
        "\n",
        "regressor = Sequential()\n",
        "regressor.add(Dense(1,activation='linear'))\n"
      ]
    },
    {
      "cell_type": "code",
      "execution_count": 33,
      "metadata": {
        "id": "h5iTesGkT7oD"
      },
      "outputs": [],
      "source": [
        "\n",
        "regressor.compile(optimizer='Rmsprop',loss ='mse',metrics=['mse'] )\n"
      ]
    },
    {
      "cell_type": "code",
      "execution_count": 34,
      "metadata": {
        "colab": {
          "base_uri": "https://localhost:8080/"
        },
        "id": "YrUBkA3lT7un",
        "outputId": "30b2e2fe-7e38-47d3-c3aa-7fd52a631f01"
      },
      "outputs": [
        {
          "name": "stdout",
          "output_type": "stream",
          "text": [
            "Epoch 1/300\n"
          ]
        },
        {
          "name": "stdout",
          "output_type": "stream",
          "text": [
            "8/8 [==============================] - 1s 4ms/step - loss: 51982331904.0000 - mse: 51982331904.0000\n",
            "Epoch 2/300\n",
            "8/8 [==============================] - 0s 1ms/step - loss: 49882529792.0000 - mse: 49882529792.0000\n",
            "Epoch 3/300\n",
            "8/8 [==============================] - 0s 2ms/step - loss: 48278167552.0000 - mse: 48278167552.0000\n",
            "Epoch 4/300\n",
            "8/8 [==============================] - 0s 2ms/step - loss: 46842380288.0000 - mse: 46842380288.0000\n",
            "Epoch 5/300\n",
            "8/8 [==============================] - 0s 2ms/step - loss: 45433847808.0000 - mse: 45433847808.0000\n",
            "Epoch 6/300\n",
            "8/8 [==============================] - 0s 4ms/step - loss: 44046815232.0000 - mse: 44046815232.0000\n",
            "Epoch 7/300\n",
            "8/8 [==============================] - 0s 3ms/step - loss: 42656673792.0000 - mse: 42656673792.0000\n",
            "Epoch 8/300\n",
            "8/8 [==============================] - 0s 2ms/step - loss: 41319497728.0000 - mse: 41319497728.0000\n",
            "Epoch 9/300\n",
            "8/8 [==============================] - 0s 3ms/step - loss: 40005251072.0000 - mse: 40005251072.0000\n",
            "Epoch 10/300\n",
            "8/8 [==============================] - 0s 4ms/step - loss: 38738984960.0000 - mse: 38738984960.0000\n",
            "Epoch 11/300\n",
            "8/8 [==============================] - 0s 4ms/step - loss: 37480165376.0000 - mse: 37480165376.0000\n",
            "Epoch 12/300\n",
            "8/8 [==============================] - 0s 3ms/step - loss: 36288155648.0000 - mse: 36288155648.0000\n",
            "Epoch 13/300\n",
            "8/8 [==============================] - 0s 2ms/step - loss: 35092578304.0000 - mse: 35092574208.0000\n",
            "Epoch 14/300\n",
            "8/8 [==============================] - 0s 3ms/step - loss: 33928407040.0000 - mse: 33928407040.0000\n",
            "Epoch 15/300\n",
            "8/8 [==============================] - 0s 2ms/step - loss: 32797186048.0000 - mse: 32797186048.0000\n",
            "Epoch 16/300\n",
            "8/8 [==============================] - 0s 4ms/step - loss: 31639554048.0000 - mse: 31639554048.0000\n",
            "Epoch 17/300\n",
            "8/8 [==============================] - 0s 2ms/step - loss: 30513506304.0000 - mse: 30513506304.0000\n",
            "Epoch 18/300\n",
            "8/8 [==============================] - 0s 4ms/step - loss: 29387139072.0000 - mse: 29387139072.0000\n",
            "Epoch 19/300\n",
            "8/8 [==============================] - 0s 2ms/step - loss: 28315097088.0000 - mse: 28315097088.0000\n",
            "Epoch 20/300\n",
            "8/8 [==============================] - 0s 4ms/step - loss: 27283286016.0000 - mse: 27283283968.0000\n",
            "Epoch 21/300\n",
            "8/8 [==============================] - 0s 2ms/step - loss: 26258454528.0000 - mse: 26258454528.0000\n",
            "Epoch 22/300\n",
            "8/8 [==============================] - 0s 2ms/step - loss: 25254588416.0000 - mse: 25254588416.0000\n",
            "Epoch 23/300\n",
            "8/8 [==============================] - 0s 2ms/step - loss: 24262684672.0000 - mse: 24262684672.0000\n",
            "Epoch 24/300\n",
            "8/8 [==============================] - 0s 2ms/step - loss: 23284713472.0000 - mse: 23284713472.0000\n",
            "Epoch 25/300\n",
            "8/8 [==============================] - 0s 2ms/step - loss: 22335324160.0000 - mse: 22335324160.0000\n",
            "Epoch 26/300\n",
            "8/8 [==============================] - 0s 2ms/step - loss: 21396465664.0000 - mse: 21396465664.0000\n",
            "Epoch 27/300\n",
            "8/8 [==============================] - 0s 4ms/step - loss: 20478836736.0000 - mse: 20478836736.0000\n",
            "Epoch 28/300\n",
            "8/8 [==============================] - 0s 3ms/step - loss: 19614138368.0000 - mse: 19614138368.0000\n",
            "Epoch 29/300\n",
            "8/8 [==============================] - 0s 2ms/step - loss: 18769850368.0000 - mse: 18769850368.0000\n",
            "Epoch 30/300\n",
            "8/8 [==============================] - 0s 4ms/step - loss: 17908897792.0000 - mse: 17908897792.0000\n",
            "Epoch 31/300\n",
            "8/8 [==============================] - 0s 1ms/step - loss: 17103305728.0000 - mse: 17103305728.0000\n",
            "Epoch 32/300\n",
            "8/8 [==============================] - 0s 2ms/step - loss: 16288050176.0000 - mse: 16288050176.0000\n",
            "Epoch 33/300\n",
            "8/8 [==============================] - 0s 2ms/step - loss: 15500524544.0000 - mse: 15500524544.0000\n",
            "Epoch 34/300\n",
            "8/8 [==============================] - 0s 2ms/step - loss: 14740675584.0000 - mse: 14740675584.0000\n",
            "Epoch 35/300\n",
            "8/8 [==============================] - 0s 2ms/step - loss: 14012143616.0000 - mse: 14012145664.0000\n",
            "Epoch 36/300\n",
            "8/8 [==============================] - 0s 2ms/step - loss: 13304658944.0000 - mse: 13304658944.0000\n",
            "Epoch 37/300\n",
            "8/8 [==============================] - 0s 3ms/step - loss: 12626102272.0000 - mse: 12626102272.0000\n",
            "Epoch 38/300\n",
            "8/8 [==============================] - 0s 2ms/step - loss: 11953333248.0000 - mse: 11953333248.0000\n",
            "Epoch 39/300\n",
            "8/8 [==============================] - 0s 2ms/step - loss: 11316187136.0000 - mse: 11316187136.0000\n",
            "Epoch 40/300\n",
            "8/8 [==============================] - 0s 2ms/step - loss: 10700244992.0000 - mse: 10700244992.0000\n",
            "Epoch 41/300\n",
            "8/8 [==============================] - 0s 2ms/step - loss: 10115106816.0000 - mse: 10115106816.0000\n",
            "Epoch 42/300\n",
            "8/8 [==============================] - 0s 2ms/step - loss: 9547160576.0000 - mse: 9547160576.0000\n",
            "Epoch 43/300\n",
            "8/8 [==============================] - 0s 2ms/step - loss: 8970213376.0000 - mse: 8970213376.0000\n",
            "Epoch 44/300\n",
            "8/8 [==============================] - 0s 2ms/step - loss: 8421604864.0000 - mse: 8421604864.0000\n",
            "Epoch 45/300\n",
            "8/8 [==============================] - 0s 3ms/step - loss: 7927932928.0000 - mse: 7927932928.0000\n",
            "Epoch 46/300\n",
            "8/8 [==============================] - 0s 3ms/step - loss: 7448734208.0000 - mse: 7448734208.0000\n",
            "Epoch 47/300\n",
            "8/8 [==============================] - 0s 4ms/step - loss: 6972790272.0000 - mse: 6972790272.0000\n",
            "Epoch 48/300\n",
            "8/8 [==============================] - 0s 5ms/step - loss: 6512324608.0000 - mse: 6512324608.0000\n",
            "Epoch 49/300\n",
            "8/8 [==============================] - 0s 3ms/step - loss: 6072214528.0000 - mse: 6072214528.0000\n",
            "Epoch 50/300\n",
            "8/8 [==============================] - 0s 3ms/step - loss: 5678380032.0000 - mse: 5678380544.0000\n",
            "Epoch 51/300\n",
            "8/8 [==============================] - 0s 3ms/step - loss: 5321630208.0000 - mse: 5321630208.0000\n",
            "Epoch 52/300\n",
            "8/8 [==============================] - 0s 3ms/step - loss: 4966589952.0000 - mse: 4966589952.0000\n",
            "Epoch 53/300\n",
            "8/8 [==============================] - 0s 3ms/step - loss: 4615040512.0000 - mse: 4615040512.0000\n",
            "Epoch 54/300\n",
            "8/8 [==============================] - 0s 3ms/step - loss: 4278248960.0000 - mse: 4278248960.0000\n",
            "Epoch 55/300\n",
            "8/8 [==============================] - 0s 3ms/step - loss: 3968164608.0000 - mse: 3968164608.0000\n",
            "Epoch 56/300\n",
            "8/8 [==============================] - 0s 3ms/step - loss: 3673810432.0000 - mse: 3673810432.0000\n",
            "Epoch 57/300\n",
            "8/8 [==============================] - 0s 4ms/step - loss: 3391335680.0000 - mse: 3391335680.0000\n",
            "Epoch 58/300\n",
            "8/8 [==============================] - 0s 4ms/step - loss: 3146163968.0000 - mse: 3146163968.0000\n",
            "Epoch 59/300\n",
            "8/8 [==============================] - 0s 4ms/step - loss: 2926057728.0000 - mse: 2926057728.0000\n",
            "Epoch 60/300\n",
            "8/8 [==============================] - 0s 4ms/step - loss: 2717604864.0000 - mse: 2717604864.0000\n",
            "Epoch 61/300\n",
            "8/8 [==============================] - 0s 4ms/step - loss: 2529758464.0000 - mse: 2529758464.0000\n",
            "Epoch 62/300\n",
            "8/8 [==============================] - 0s 4ms/step - loss: 2366416896.0000 - mse: 2366416896.0000\n",
            "Epoch 63/300\n",
            "8/8 [==============================] - 0s 4ms/step - loss: 2230456064.0000 - mse: 2230456064.0000\n",
            "Epoch 64/300\n",
            "8/8 [==============================] - 0s 4ms/step - loss: 2089355392.0000 - mse: 2089355392.0000\n",
            "Epoch 65/300\n",
            "8/8 [==============================] - 0s 4ms/step - loss: 1971853312.0000 - mse: 1971853312.0000\n",
            "Epoch 66/300\n",
            "8/8 [==============================] - 0s 4ms/step - loss: 1861517568.0000 - mse: 1861517568.0000\n",
            "Epoch 67/300\n",
            "8/8 [==============================] - 0s 5ms/step - loss: 1766170368.0000 - mse: 1766170368.0000\n",
            "Epoch 68/300\n",
            "8/8 [==============================] - 0s 4ms/step - loss: 1683057152.0000 - mse: 1683057152.0000\n",
            "Epoch 69/300\n",
            "8/8 [==============================] - 0s 5ms/step - loss: 1610337152.0000 - mse: 1610337152.0000\n",
            "Epoch 70/300\n",
            "8/8 [==============================] - 0s 4ms/step - loss: 1558935552.0000 - mse: 1558935552.0000\n",
            "Epoch 71/300\n",
            "8/8 [==============================] - 0s 3ms/step - loss: 1511169024.0000 - mse: 1511169024.0000\n",
            "Epoch 72/300\n",
            "8/8 [==============================] - 0s 4ms/step - loss: 1469289984.0000 - mse: 1469289984.0000\n",
            "Epoch 73/300\n",
            "8/8 [==============================] - 0s 5ms/step - loss: 1429023232.0000 - mse: 1429023232.0000\n",
            "Epoch 74/300\n",
            "8/8 [==============================] - 0s 2ms/step - loss: 1392342784.0000 - mse: 1392342784.0000\n",
            "Epoch 75/300\n",
            "8/8 [==============================] - 0s 2ms/step - loss: 1359565056.0000 - mse: 1359565184.0000\n",
            "Epoch 76/300\n",
            "8/8 [==============================] - 0s 2ms/step - loss: 1327032960.0000 - mse: 1327032960.0000\n",
            "Epoch 77/300\n",
            "8/8 [==============================] - 0s 4ms/step - loss: 1300514688.0000 - mse: 1300514688.0000\n",
            "Epoch 78/300\n",
            "8/8 [==============================] - 0s 3ms/step - loss: 1271177856.0000 - mse: 1271177856.0000\n",
            "Epoch 79/300\n",
            "8/8 [==============================] - 0s 4ms/step - loss: 1246680192.0000 - mse: 1246680192.0000\n",
            "Epoch 80/300\n",
            "8/8 [==============================] - 0s 2ms/step - loss: 1219660544.0000 - mse: 1219660544.0000\n",
            "Epoch 81/300\n",
            "8/8 [==============================] - 0s 2ms/step - loss: 1195011200.0000 - mse: 1195011200.0000\n",
            "Epoch 82/300\n",
            "8/8 [==============================] - 0s 4ms/step - loss: 1171140608.0000 - mse: 1171140608.0000\n",
            "Epoch 83/300\n",
            "8/8 [==============================] - 0s 4ms/step - loss: 1145223424.0000 - mse: 1145223424.0000\n",
            "Epoch 84/300\n",
            "8/8 [==============================] - 0s 4ms/step - loss: 1119710464.0000 - mse: 1119710464.0000\n",
            "Epoch 85/300\n",
            "8/8 [==============================] - 0s 4ms/step - loss: 1093919872.0000 - mse: 1093919872.0000\n",
            "Epoch 86/300\n",
            "8/8 [==============================] - 0s 4ms/step - loss: 1071109440.0000 - mse: 1071109440.0000\n",
            "Epoch 87/300\n",
            "8/8 [==============================] - 0s 5ms/step - loss: 1049096128.0000 - mse: 1049096128.0000\n",
            "Epoch 88/300\n",
            "8/8 [==============================] - 0s 4ms/step - loss: 1025187520.0000 - mse: 1025187648.0000\n",
            "Epoch 89/300\n",
            "8/8 [==============================] - 0s 5ms/step - loss: 1001621184.0000 - mse: 1001621184.0000\n",
            "Epoch 90/300\n",
            "8/8 [==============================] - 0s 3ms/step - loss: 978553408.0000 - mse: 978553408.0000\n",
            "Epoch 91/300\n",
            "8/8 [==============================] - 0s 4ms/step - loss: 959273792.0000 - mse: 959273792.0000\n",
            "Epoch 92/300\n",
            "8/8 [==============================] - 0s 5ms/step - loss: 941458368.0000 - mse: 941458368.0000\n",
            "Epoch 93/300\n",
            "8/8 [==============================] - 0s 4ms/step - loss: 922616896.0000 - mse: 922616896.0000\n",
            "Epoch 94/300\n",
            "8/8 [==============================] - 0s 4ms/step - loss: 903815744.0000 - mse: 903815744.0000\n",
            "Epoch 95/300\n",
            "8/8 [==============================] - 0s 3ms/step - loss: 885516736.0000 - mse: 885516736.0000\n",
            "Epoch 96/300\n",
            "8/8 [==============================] - 0s 4ms/step - loss: 868825216.0000 - mse: 868825216.0000\n",
            "Epoch 97/300\n",
            "8/8 [==============================] - 0s 4ms/step - loss: 851727296.0000 - mse: 851727296.0000\n",
            "Epoch 98/300\n",
            "8/8 [==============================] - 0s 5ms/step - loss: 834116160.0000 - mse: 834116160.0000\n",
            "Epoch 99/300\n",
            "8/8 [==============================] - 0s 2ms/step - loss: 819361280.0000 - mse: 819361280.0000\n",
            "Epoch 100/300\n",
            "8/8 [==============================] - 0s 3ms/step - loss: 802725696.0000 - mse: 802725696.0000\n",
            "Epoch 101/300\n",
            "8/8 [==============================] - 0s 4ms/step - loss: 786725760.0000 - mse: 786725760.0000\n",
            "Epoch 102/300\n",
            "8/8 [==============================] - 0s 3ms/step - loss: 771901120.0000 - mse: 771901120.0000\n",
            "Epoch 103/300\n",
            "8/8 [==============================] - 0s 7ms/step - loss: 757704768.0000 - mse: 757704832.0000\n",
            "Epoch 104/300\n",
            "8/8 [==============================] - 0s 2ms/step - loss: 739939200.0000 - mse: 739939200.0000\n",
            "Epoch 105/300\n",
            "8/8 [==============================] - 0s 1ms/step - loss: 723136064.0000 - mse: 723136064.0000\n",
            "Epoch 106/300\n",
            "8/8 [==============================] - 0s 1ms/step - loss: 708532288.0000 - mse: 708532288.0000\n",
            "Epoch 107/300\n",
            "8/8 [==============================] - 0s 2ms/step - loss: 694629632.0000 - mse: 694629632.0000\n",
            "Epoch 108/300\n",
            "8/8 [==============================] - 0s 3ms/step - loss: 679588224.0000 - mse: 679588224.0000\n",
            "Epoch 109/300\n",
            "8/8 [==============================] - 0s 4ms/step - loss: 666563648.0000 - mse: 666563648.0000\n",
            "Epoch 110/300\n",
            "8/8 [==============================] - 0s 5ms/step - loss: 650334784.0000 - mse: 650334784.0000\n",
            "Epoch 111/300\n",
            "8/8 [==============================] - 0s 4ms/step - loss: 636699200.0000 - mse: 636699200.0000\n",
            "Epoch 112/300\n",
            "8/8 [==============================] - 0s 5ms/step - loss: 623053056.0000 - mse: 623053056.0000\n",
            "Epoch 113/300\n",
            "8/8 [==============================] - 0s 4ms/step - loss: 609046656.0000 - mse: 609046656.0000\n",
            "Epoch 114/300\n",
            "8/8 [==============================] - 0s 4ms/step - loss: 598793984.0000 - mse: 598793984.0000\n",
            "Epoch 115/300\n",
            "8/8 [==============================] - 0s 4ms/step - loss: 585574016.0000 - mse: 585574016.0000\n",
            "Epoch 116/300\n",
            "8/8 [==============================] - 0s 5ms/step - loss: 577326528.0000 - mse: 577326528.0000\n",
            "Epoch 117/300\n",
            "8/8 [==============================] - 0s 4ms/step - loss: 566921152.0000 - mse: 566921152.0000\n",
            "Epoch 118/300\n",
            "8/8 [==============================] - 0s 6ms/step - loss: 555142528.0000 - mse: 555142528.0000\n",
            "Epoch 119/300\n",
            "8/8 [==============================] - 0s 3ms/step - loss: 545147072.0000 - mse: 545147072.0000\n",
            "Epoch 120/300\n",
            "8/8 [==============================] - 0s 4ms/step - loss: 532654720.0000 - mse: 532654720.0000\n",
            "Epoch 121/300\n",
            "8/8 [==============================] - 0s 4ms/step - loss: 523112512.0000 - mse: 523112512.0000\n",
            "Epoch 122/300\n",
            "8/8 [==============================] - 0s 4ms/step - loss: 511986304.0000 - mse: 511986304.0000\n",
            "Epoch 123/300\n",
            "8/8 [==============================] - 0s 3ms/step - loss: 501830784.0000 - mse: 501830784.0000\n",
            "Epoch 124/300\n",
            "8/8 [==============================] - 0s 4ms/step - loss: 498817664.0000 - mse: 498817664.0000\n",
            "Epoch 125/300\n",
            "8/8 [==============================] - 0s 3ms/step - loss: 485582720.0000 - mse: 485582720.0000\n",
            "Epoch 126/300\n",
            "8/8 [==============================] - 0s 4ms/step - loss: 478678720.0000 - mse: 478678720.0000\n",
            "Epoch 127/300\n",
            "8/8 [==============================] - 0s 4ms/step - loss: 470703040.0000 - mse: 470703040.0000\n",
            "Epoch 128/300\n",
            "8/8 [==============================] - 0s 4ms/step - loss: 462792576.0000 - mse: 462792576.0000\n",
            "Epoch 129/300\n",
            "8/8 [==============================] - 0s 3ms/step - loss: 454366272.0000 - mse: 454366272.0000\n",
            "Epoch 130/300\n",
            "8/8 [==============================] - 0s 5ms/step - loss: 446297888.0000 - mse: 446297888.0000\n",
            "Epoch 131/300\n",
            "8/8 [==============================] - 0s 3ms/step - loss: 438868096.0000 - mse: 438868096.0000\n",
            "Epoch 132/300\n",
            "8/8 [==============================] - 0s 4ms/step - loss: 433394048.0000 - mse: 433394048.0000\n",
            "Epoch 133/300\n",
            "8/8 [==============================] - 0s 3ms/step - loss: 425826592.0000 - mse: 425826592.0000\n",
            "Epoch 134/300\n",
            "8/8 [==============================] - 0s 3ms/step - loss: 418970400.0000 - mse: 418970400.0000\n",
            "Epoch 135/300\n",
            "8/8 [==============================] - 0s 3ms/step - loss: 412444192.0000 - mse: 412444192.0000\n",
            "Epoch 136/300\n",
            "8/8 [==============================] - 0s 3ms/step - loss: 406823072.0000 - mse: 406823072.0000\n",
            "Epoch 137/300\n",
            "8/8 [==============================] - 0s 2ms/step - loss: 400411040.0000 - mse: 400411104.0000\n",
            "Epoch 138/300\n",
            "8/8 [==============================] - 0s 2ms/step - loss: 394711232.0000 - mse: 394711232.0000\n",
            "Epoch 139/300\n",
            "8/8 [==============================] - 0s 2ms/step - loss: 388776288.0000 - mse: 388776288.0000\n",
            "Epoch 140/300\n",
            "8/8 [==============================] - 0s 3ms/step - loss: 383123232.0000 - mse: 383123232.0000\n",
            "Epoch 141/300\n",
            "8/8 [==============================] - 0s 2ms/step - loss: 377005472.0000 - mse: 377005472.0000\n",
            "Epoch 142/300\n",
            "8/8 [==============================] - 0s 3ms/step - loss: 373819488.0000 - mse: 373819488.0000\n",
            "Epoch 143/300\n",
            "8/8 [==============================] - 0s 2ms/step - loss: 367902464.0000 - mse: 367902464.0000\n",
            "Epoch 144/300\n",
            "8/8 [==============================] - 0s 2ms/step - loss: 363500544.0000 - mse: 363500544.0000\n",
            "Epoch 145/300\n",
            "8/8 [==============================] - 0s 3ms/step - loss: 358670496.0000 - mse: 358670528.0000\n",
            "Epoch 146/300\n",
            "8/8 [==============================] - 0s 2ms/step - loss: 353383616.0000 - mse: 353383616.0000\n",
            "Epoch 147/300\n",
            "8/8 [==============================] - 0s 2ms/step - loss: 349808640.0000 - mse: 349808640.0000\n",
            "Epoch 148/300\n",
            "8/8 [==============================] - 0s 1ms/step - loss: 347221536.0000 - mse: 347221536.0000\n",
            "Epoch 149/300\n",
            "8/8 [==============================] - 0s 2ms/step - loss: 342003008.0000 - mse: 342003008.0000\n",
            "Epoch 150/300\n",
            "8/8 [==============================] - 0s 2ms/step - loss: 338239968.0000 - mse: 338239968.0000\n",
            "Epoch 151/300\n",
            "8/8 [==============================] - 0s 2ms/step - loss: 335605120.0000 - mse: 335605120.0000\n",
            "Epoch 152/300\n",
            "8/8 [==============================] - 0s 8ms/step - loss: 334234848.0000 - mse: 334234848.0000\n",
            "Epoch 153/300\n",
            "8/8 [==============================] - 0s 2ms/step - loss: 329201376.0000 - mse: 329201376.0000\n",
            "Epoch 154/300\n",
            "8/8 [==============================] - 0s 2ms/step - loss: 325734880.0000 - mse: 325734880.0000\n",
            "Epoch 155/300\n",
            "8/8 [==============================] - 0s 628us/step - loss: 323328064.0000 - mse: 323328064.0000\n",
            "Epoch 156/300\n",
            "8/8 [==============================] - 0s 3ms/step - loss: 319224096.0000 - mse: 319224096.0000\n",
            "Epoch 157/300\n",
            "8/8 [==============================] - 0s 2ms/step - loss: 314962688.0000 - mse: 314962688.0000\n",
            "Epoch 158/300\n",
            "8/8 [==============================] - 0s 4ms/step - loss: 312458944.0000 - mse: 312458944.0000\n",
            "Epoch 159/300\n",
            "8/8 [==============================] - 0s 3ms/step - loss: 308989888.0000 - mse: 308989888.0000\n",
            "Epoch 160/300\n",
            "8/8 [==============================] - 0s 3ms/step - loss: 307109120.0000 - mse: 307109120.0000\n",
            "Epoch 161/300\n",
            "8/8 [==============================] - 0s 4ms/step - loss: 302673792.0000 - mse: 302673792.0000\n",
            "Epoch 162/300\n",
            "8/8 [==============================] - 0s 4ms/step - loss: 301320192.0000 - mse: 301320192.0000\n",
            "Epoch 163/300\n",
            "8/8 [==============================] - 0s 3ms/step - loss: 297418656.0000 - mse: 297418656.0000\n",
            "Epoch 164/300\n",
            "8/8 [==============================] - 0s 4ms/step - loss: 294680096.0000 - mse: 294680096.0000\n",
            "Epoch 165/300\n",
            "8/8 [==============================] - 0s 4ms/step - loss: 291943328.0000 - mse: 291943328.0000\n",
            "Epoch 166/300\n",
            "8/8 [==============================] - 0s 4ms/step - loss: 288951872.0000 - mse: 288951872.0000\n",
            "Epoch 167/300\n",
            "8/8 [==============================] - 0s 3ms/step - loss: 286236576.0000 - mse: 286236576.0000\n",
            "Epoch 168/300\n",
            "8/8 [==============================] - 0s 3ms/step - loss: 285272640.0000 - mse: 285272640.0000\n",
            "Epoch 169/300\n",
            "8/8 [==============================] - 0s 4ms/step - loss: 280411136.0000 - mse: 280411136.0000\n",
            "Epoch 170/300\n",
            "8/8 [==============================] - 0s 3ms/step - loss: 279064608.0000 - mse: 279064576.0000\n",
            "Epoch 171/300\n",
            "8/8 [==============================] - 0s 3ms/step - loss: 276636672.0000 - mse: 276636672.0000\n",
            "Epoch 172/300\n",
            "8/8 [==============================] - 0s 3ms/step - loss: 274928000.0000 - mse: 274928000.0000\n",
            "Epoch 173/300\n",
            "8/8 [==============================] - 0s 2ms/step - loss: 272812768.0000 - mse: 272812768.0000\n",
            "Epoch 174/300\n",
            "8/8 [==============================] - 0s 5ms/step - loss: 270578944.0000 - mse: 270578944.0000\n",
            "Epoch 175/300\n",
            "8/8 [==============================] - 0s 4ms/step - loss: 269349760.0000 - mse: 269349760.0000\n",
            "Epoch 176/300\n",
            "8/8 [==============================] - 0s 1ms/step - loss: 267338144.0000 - mse: 267338144.0000\n",
            "Epoch 177/300\n",
            "8/8 [==============================] - 0s 4ms/step - loss: 266719232.0000 - mse: 266719232.0000\n",
            "Epoch 178/300\n",
            "8/8 [==============================] - 0s 3ms/step - loss: 264595136.0000 - mse: 264595136.0000\n",
            "Epoch 179/300\n",
            "8/8 [==============================] - 0s 3ms/step - loss: 262679536.0000 - mse: 262679536.0000\n",
            "Epoch 180/300\n",
            "8/8 [==============================] - 0s 3ms/step - loss: 261515232.0000 - mse: 261515232.0000\n",
            "Epoch 181/300\n",
            "8/8 [==============================] - 0s 4ms/step - loss: 259035488.0000 - mse: 259035456.0000\n",
            "Epoch 182/300\n",
            "8/8 [==============================] - 0s 3ms/step - loss: 257738096.0000 - mse: 257738096.0000\n",
            "Epoch 183/300\n",
            "8/8 [==============================] - 0s 4ms/step - loss: 255800000.0000 - mse: 255800000.0000\n",
            "Epoch 184/300\n",
            "8/8 [==============================] - 0s 5ms/step - loss: 254315616.0000 - mse: 254315616.0000\n",
            "Epoch 185/300\n",
            "8/8 [==============================] - 0s 4ms/step - loss: 252084800.0000 - mse: 252084800.0000\n",
            "Epoch 186/300\n",
            "8/8 [==============================] - 0s 5ms/step - loss: 251785600.0000 - mse: 251785600.0000\n",
            "Epoch 187/300\n",
            "8/8 [==============================] - 0s 4ms/step - loss: 250176224.0000 - mse: 250176224.0000\n",
            "Epoch 188/300\n",
            "8/8 [==============================] - 0s 7ms/step - loss: 247955616.0000 - mse: 247955616.0000\n",
            "Epoch 189/300\n",
            "8/8 [==============================] - 0s 2ms/step - loss: 246676736.0000 - mse: 246676736.0000\n",
            "Epoch 190/300\n",
            "8/8 [==============================] - 0s 2ms/step - loss: 246282672.0000 - mse: 246282672.0000\n",
            "Epoch 191/300\n",
            "8/8 [==============================] - 0s 2ms/step - loss: 244629584.0000 - mse: 244629584.0000\n",
            "Epoch 192/300\n",
            "8/8 [==============================] - 0s 3ms/step - loss: 242880784.0000 - mse: 242880784.0000\n",
            "Epoch 193/300\n",
            "8/8 [==============================] - 0s 3ms/step - loss: 243627952.0000 - mse: 243627952.0000\n",
            "Epoch 194/300\n",
            "8/8 [==============================] - 0s 3ms/step - loss: 240939792.0000 - mse: 240939792.0000\n",
            "Epoch 195/300\n",
            "8/8 [==============================] - 0s 4ms/step - loss: 240900912.0000 - mse: 240900912.0000\n",
            "Epoch 196/300\n",
            "8/8 [==============================] - 0s 3ms/step - loss: 240352896.0000 - mse: 240352928.0000\n",
            "Epoch 197/300\n",
            "8/8 [==============================] - 0s 3ms/step - loss: 238065008.0000 - mse: 238065008.0000\n",
            "Epoch 198/300\n",
            "8/8 [==============================] - 0s 3ms/step - loss: 237495776.0000 - mse: 237495776.0000\n",
            "Epoch 199/300\n",
            "8/8 [==============================] - 0s 3ms/step - loss: 236393216.0000 - mse: 236393216.0000\n",
            "Epoch 200/300\n",
            "8/8 [==============================] - 0s 3ms/step - loss: 235412032.0000 - mse: 235412032.0000\n",
            "Epoch 201/300\n",
            "8/8 [==============================] - 0s 3ms/step - loss: 234814672.0000 - mse: 234814672.0000\n",
            "Epoch 202/300\n",
            "8/8 [==============================] - 0s 3ms/step - loss: 233184128.0000 - mse: 233184128.0000\n",
            "Epoch 203/300\n",
            "8/8 [==============================] - 0s 3ms/step - loss: 232789504.0000 - mse: 232789504.0000\n",
            "Epoch 204/300\n",
            "8/8 [==============================] - 0s 4ms/step - loss: 231798096.0000 - mse: 231798096.0000\n",
            "Epoch 205/300\n",
            "8/8 [==============================] - 0s 4ms/step - loss: 231120192.0000 - mse: 231120192.0000\n",
            "Epoch 206/300\n",
            "8/8 [==============================] - 0s 4ms/step - loss: 229984096.0000 - mse: 229984064.0000\n",
            "Epoch 207/300\n",
            "8/8 [==============================] - 0s 4ms/step - loss: 230852800.0000 - mse: 230852800.0000\n",
            "Epoch 208/300\n",
            "8/8 [==============================] - 0s 4ms/step - loss: 228042240.0000 - mse: 228042256.0000\n",
            "Epoch 209/300\n",
            "8/8 [==============================] - 0s 3ms/step - loss: 227793136.0000 - mse: 227793136.0000\n",
            "Epoch 210/300\n",
            "8/8 [==============================] - 0s 1ms/step - loss: 227004832.0000 - mse: 227004832.0000\n",
            "Epoch 211/300\n",
            "8/8 [==============================] - 0s 7ms/step - loss: 226538048.0000 - mse: 226538048.0000\n",
            "Epoch 212/300\n",
            "8/8 [==============================] - 0s 6ms/step - loss: 225449104.0000 - mse: 225449104.0000\n",
            "Epoch 213/300\n",
            "8/8 [==============================] - 0s 2ms/step - loss: 224720576.0000 - mse: 224720576.0000\n",
            "Epoch 214/300\n",
            "8/8 [==============================] - 0s 2ms/step - loss: 224260624.0000 - mse: 224260656.0000\n",
            "Epoch 215/300\n",
            "8/8 [==============================] - 0s 2ms/step - loss: 222620496.0000 - mse: 222620496.0000\n",
            "Epoch 216/300\n",
            "8/8 [==============================] - 0s 2ms/step - loss: 223044320.0000 - mse: 223044320.0000\n",
            "Epoch 217/300\n",
            "8/8 [==============================] - 0s 2ms/step - loss: 221797776.0000 - mse: 221797776.0000\n",
            "Epoch 218/300\n",
            "8/8 [==============================] - 0s 4ms/step - loss: 220431936.0000 - mse: 220431952.0000\n",
            "Epoch 219/300\n",
            "8/8 [==============================] - 0s 3ms/step - loss: 221800720.0000 - mse: 221800720.0000\n",
            "Epoch 220/300\n",
            "8/8 [==============================] - 0s 3ms/step - loss: 219547632.0000 - mse: 219547632.0000\n",
            "Epoch 221/300\n",
            "8/8 [==============================] - 0s 5ms/step - loss: 218946896.0000 - mse: 218946928.0000\n",
            "Epoch 222/300\n",
            "8/8 [==============================] - 0s 4ms/step - loss: 218969808.0000 - mse: 218969808.0000\n",
            "Epoch 223/300\n",
            "8/8 [==============================] - 0s 4ms/step - loss: 217354672.0000 - mse: 217354672.0000\n",
            "Epoch 224/300\n",
            "8/8 [==============================] - 0s 4ms/step - loss: 218442432.0000 - mse: 218442432.0000\n",
            "Epoch 225/300\n",
            "8/8 [==============================] - 0s 5ms/step - loss: 217689808.0000 - mse: 217689808.0000\n",
            "Epoch 226/300\n",
            "8/8 [==============================] - 0s 3ms/step - loss: 215983744.0000 - mse: 215983744.0000\n",
            "Epoch 227/300\n",
            "8/8 [==============================] - 0s 5ms/step - loss: 217841248.0000 - mse: 217841248.0000\n",
            "Epoch 228/300\n",
            "8/8 [==============================] - 0s 4ms/step - loss: 216001056.0000 - mse: 216001056.0000\n",
            "Epoch 229/300\n",
            "8/8 [==============================] - 0s 3ms/step - loss: 215776304.0000 - mse: 215776304.0000\n",
            "Epoch 230/300\n",
            "8/8 [==============================] - 0s 4ms/step - loss: 214585328.0000 - mse: 214585328.0000\n",
            "Epoch 231/300\n",
            "8/8 [==============================] - 0s 4ms/step - loss: 213665936.0000 - mse: 213665936.0000\n",
            "Epoch 232/300\n",
            "8/8 [==============================] - 0s 4ms/step - loss: 214030912.0000 - mse: 214030912.0000\n",
            "Epoch 233/300\n",
            "8/8 [==============================] - 0s 5ms/step - loss: 213535280.0000 - mse: 213535264.0000\n",
            "Epoch 234/300\n",
            "8/8 [==============================] - 0s 4ms/step - loss: 212210480.0000 - mse: 212210480.0000\n",
            "Epoch 235/300\n",
            "8/8 [==============================] - 0s 5ms/step - loss: 212500432.0000 - mse: 212500432.0000\n",
            "Epoch 236/300\n",
            "8/8 [==============================] - 0s 4ms/step - loss: 211598576.0000 - mse: 211598576.0000\n",
            "Epoch 237/300\n",
            "8/8 [==============================] - 0s 4ms/step - loss: 211219744.0000 - mse: 211219744.0000\n",
            "Epoch 238/300\n",
            "8/8 [==============================] - 0s 4ms/step - loss: 211983968.0000 - mse: 211983968.0000\n",
            "Epoch 239/300\n",
            "8/8 [==============================] - 0s 6ms/step - loss: 210684304.0000 - mse: 210684304.0000\n",
            "Epoch 240/300\n",
            "8/8 [==============================] - 0s 5ms/step - loss: 209276304.0000 - mse: 209276304.0000\n",
            "Epoch 241/300\n",
            "8/8 [==============================] - 0s 4ms/step - loss: 210020208.0000 - mse: 210020208.0000\n",
            "Epoch 242/300\n",
            "8/8 [==============================] - 0s 4ms/step - loss: 209366160.0000 - mse: 209366160.0000\n",
            "Epoch 243/300\n",
            "8/8 [==============================] - 0s 1ms/step - loss: 209745312.0000 - mse: 209745312.0000\n",
            "Epoch 244/300\n",
            "8/8 [==============================] - 0s 3ms/step - loss: 208456480.0000 - mse: 208456480.0000\n",
            "Epoch 245/300\n",
            "8/8 [==============================] - 0s 4ms/step - loss: 207935344.0000 - mse: 207935344.0000\n",
            "Epoch 246/300\n",
            "8/8 [==============================] - 0s 5ms/step - loss: 209177840.0000 - mse: 209177840.0000\n",
            "Epoch 247/300\n",
            "8/8 [==============================] - 0s 5ms/step - loss: 206991088.0000 - mse: 206991088.0000\n",
            "Epoch 248/300\n",
            "8/8 [==============================] - 0s 4ms/step - loss: 206926192.0000 - mse: 206926192.0000\n",
            "Epoch 249/300\n",
            "8/8 [==============================] - 0s 8ms/step - loss: 208035696.0000 - mse: 208035696.0000\n",
            "Epoch 250/300\n",
            "8/8 [==============================] - 0s 1ms/step - loss: 207421984.0000 - mse: 207421984.0000\n",
            "Epoch 251/300\n",
            "8/8 [==============================] - 0s 2ms/step - loss: 206295296.0000 - mse: 206295280.0000\n",
            "Epoch 252/300\n",
            "8/8 [==============================] - 0s 3ms/step - loss: 207171696.0000 - mse: 207171696.0000\n",
            "Epoch 253/300\n",
            "8/8 [==============================] - 0s 3ms/step - loss: 206975264.0000 - mse: 206975232.0000\n",
            "Epoch 254/300\n",
            "8/8 [==============================] - 0s 5ms/step - loss: 205861888.0000 - mse: 205861888.0000\n",
            "Epoch 255/300\n",
            "8/8 [==============================] - 0s 4ms/step - loss: 205464048.0000 - mse: 205464048.0000\n",
            "Epoch 256/300\n",
            "8/8 [==============================] - 0s 6ms/step - loss: 205496416.0000 - mse: 205496416.0000\n",
            "Epoch 257/300\n",
            "8/8 [==============================] - 0s 7ms/step - loss: 206418048.0000 - mse: 206418048.0000\n",
            "Epoch 258/300\n",
            "8/8 [==============================] - 0s 2ms/step - loss: 204831600.0000 - mse: 204831600.0000\n",
            "Epoch 259/300\n",
            "8/8 [==============================] - 0s 1ms/step - loss: 204322704.0000 - mse: 204322704.0000\n",
            "Epoch 260/300\n",
            "8/8 [==============================] - 0s 2ms/step - loss: 204689920.0000 - mse: 204689920.0000\n",
            "Epoch 261/300\n",
            "8/8 [==============================] - 0s 2ms/step - loss: 204703824.0000 - mse: 204703824.0000\n",
            "Epoch 262/300\n",
            "8/8 [==============================] - 0s 3ms/step - loss: 204227040.0000 - mse: 204227040.0000\n",
            "Epoch 263/300\n",
            "8/8 [==============================] - 0s 3ms/step - loss: 204683872.0000 - mse: 204683888.0000\n",
            "Epoch 264/300\n",
            "8/8 [==============================] - 0s 3ms/step - loss: 204531936.0000 - mse: 204531936.0000\n",
            "Epoch 265/300\n",
            "8/8 [==============================] - 0s 3ms/step - loss: 204670352.0000 - mse: 204670352.0000\n",
            "Epoch 266/300\n",
            "8/8 [==============================] - 0s 3ms/step - loss: 202750416.0000 - mse: 202750416.0000\n",
            "Epoch 267/300\n",
            "8/8 [==============================] - 0s 5ms/step - loss: 202893200.0000 - mse: 202893200.0000\n",
            "Epoch 268/300\n",
            "8/8 [==============================] - 0s 3ms/step - loss: 203157840.0000 - mse: 203157840.0000\n",
            "Epoch 269/300\n",
            "8/8 [==============================] - 0s 3ms/step - loss: 203225328.0000 - mse: 203225296.0000\n",
            "Epoch 270/300\n",
            "8/8 [==============================] - 0s 1ms/step - loss: 203619232.0000 - mse: 203619232.0000\n",
            "Epoch 271/300\n",
            "8/8 [==============================] - 0s 4ms/step - loss: 202323248.0000 - mse: 202323248.0000\n",
            "Epoch 272/300\n",
            "8/8 [==============================] - 0s 3ms/step - loss: 204150928.0000 - mse: 204150928.0000\n",
            "Epoch 273/300\n",
            "8/8 [==============================] - 0s 1ms/step - loss: 201892592.0000 - mse: 201892592.0000\n",
            "Epoch 274/300\n",
            "8/8 [==============================] - 0s 4ms/step - loss: 203247472.0000 - mse: 203247472.0000\n",
            "Epoch 275/300\n",
            "8/8 [==============================] - 0s 5ms/step - loss: 202545392.0000 - mse: 202545392.0000\n",
            "Epoch 276/300\n",
            "8/8 [==============================] - 0s 4ms/step - loss: 202918112.0000 - mse: 202918112.0000\n",
            "Epoch 277/300\n",
            "8/8 [==============================] - 0s 3ms/step - loss: 202064304.0000 - mse: 202064304.0000\n",
            "Epoch 278/300\n",
            "8/8 [==============================] - 0s 3ms/step - loss: 202936736.0000 - mse: 202936736.0000\n",
            "Epoch 279/300\n",
            "8/8 [==============================] - 0s 3ms/step - loss: 201041328.0000 - mse: 201041328.0000\n",
            "Epoch 280/300\n",
            "8/8 [==============================] - 0s 3ms/step - loss: 201318736.0000 - mse: 201318736.0000\n",
            "Epoch 281/300\n",
            "8/8 [==============================] - 0s 5ms/step - loss: 201953552.0000 - mse: 201953552.0000\n",
            "Epoch 282/300\n",
            "8/8 [==============================] - 0s 4ms/step - loss: 201810176.0000 - mse: 201810176.0000\n",
            "Epoch 283/300\n",
            "8/8 [==============================] - 0s 3ms/step - loss: 201711936.0000 - mse: 201711936.0000\n",
            "Epoch 284/300\n",
            "8/8 [==============================] - 0s 3ms/step - loss: 200800768.0000 - mse: 200800768.0000\n",
            "Epoch 285/300\n",
            "8/8 [==============================] - 0s 5ms/step - loss: 202243392.0000 - mse: 202243392.0000\n",
            "Epoch 286/300\n",
            "8/8 [==============================] - 0s 4ms/step - loss: 200625424.0000 - mse: 200625424.0000\n",
            "Epoch 287/300\n",
            "8/8 [==============================] - 0s 4ms/step - loss: 202580736.0000 - mse: 202580736.0000\n",
            "Epoch 288/300\n",
            "8/8 [==============================] - 0s 4ms/step - loss: 201160992.0000 - mse: 201160992.0000\n",
            "Epoch 289/300\n",
            "8/8 [==============================] - 0s 1ms/step - loss: 200104768.0000 - mse: 200104768.0000\n",
            "Epoch 290/300\n",
            "8/8 [==============================] - 0s 3ms/step - loss: 201362480.0000 - mse: 201362480.0000\n",
            "Epoch 291/300\n",
            "8/8 [==============================] - 0s 1ms/step - loss: 201195008.0000 - mse: 201195008.0000\n",
            "Epoch 292/300\n",
            "8/8 [==============================] - 0s 4ms/step - loss: 201350592.0000 - mse: 201350592.0000\n",
            "Epoch 293/300\n",
            "8/8 [==============================] - 0s 4ms/step - loss: 199760576.0000 - mse: 199760576.0000\n",
            "Epoch 294/300\n",
            "8/8 [==============================] - 0s 3ms/step - loss: 201963104.0000 - mse: 201963104.0000\n",
            "Epoch 295/300\n",
            "8/8 [==============================] - 0s 2ms/step - loss: 199555520.0000 - mse: 199555520.0000\n",
            "Epoch 296/300\n",
            "8/8 [==============================] - 0s 4ms/step - loss: 200121200.0000 - mse: 200121200.0000\n",
            "Epoch 297/300\n",
            "8/8 [==============================] - 0s 4ms/step - loss: 201240288.0000 - mse: 201240288.0000\n",
            "Epoch 298/300\n",
            "8/8 [==============================] - 0s 5ms/step - loss: 200037456.0000 - mse: 200037456.0000\n",
            "Epoch 299/300\n",
            "8/8 [==============================] - 0s 4ms/step - loss: 202136256.0000 - mse: 202136256.0000\n",
            "Epoch 300/300\n",
            "8/8 [==============================] - 0s 16ms/step - loss: 200173616.0000 - mse: 200173616.0000\n"
          ]
        }
      ],
      "source": [
        "# training the model\n",
        "hiatory=regressor.fit(x_train,y_train,batch_size=10,epochs =300)\n"
      ]
    },
    {
      "cell_type": "markdown",
      "metadata": {},
      "source": [
        "# Evaluation"
      ]
    },
    {
      "cell_type": "code",
      "execution_count": 35,
      "metadata": {
        "colab": {
          "base_uri": "https://localhost:8080/"
        },
        "id": "NJQhaspHT7xR",
        "outputId": "5264c18a-2dea-4949-911a-47aa0e0cc8a9"
      },
      "outputs": [
        {
          "name": "stdout",
          "output_type": "stream",
          "text": [
            "2/2 [==============================] - 0s 3ms/step\n"
          ]
        }
      ],
      "source": [
        "y_pred = regressor.predict(x_test)"
      ]
    },
    {
      "cell_type": "code",
      "execution_count": 36,
      "metadata": {
        "colab": {
          "base_uri": "https://localhost:8080/"
        },
        "id": "U-gLNe6WVRcc",
        "outputId": "783064e1-a3e7-4b64-da69-294afb5046df"
      },
      "outputs": [
        {
          "name": "stdout",
          "output_type": "stream",
          "text": [
            "0.8890400572712399\n"
          ]
        }
      ],
      "source": [
        "# evaluating the model with r2 score\n",
        "from sklearn.metrics import r2_score\n",
        "print(r2_score(y_test,y_pred))"
      ]
    },
    {
      "cell_type": "code",
      "execution_count": 37,
      "metadata": {},
      "outputs": [
        {
          "data": {
            "text/plain": [
              "array([ 40628.164, 129178.37 ,  79105.14 , 179122.03 ,  99790.42 ,\n",
              "       124080.664, 128792.09 , 169205.95 , 118555.266,  43346.47 ,\n",
              "       105787.58 , 119473.664,  40628.164, 132248.73 ,  65610.625,\n",
              "       132062.16 , 132062.16 , 102584.805,  64239.742, 145006.53 ,\n",
              "       159313.64 , 162103.25 , 112333.07 , 164133.78 ,  91980.91 ,\n",
              "       176003.1  , 124138.875,  16953.52 ,  89801.11 , 155544.88 ,\n",
              "        69834.29 , 204794.36 , 204981.88 ], dtype=float32)"
            ]
          },
          "execution_count": 37,
          "metadata": {},
          "output_type": "execute_result"
        }
      ],
      "source": [
        "y_pred.flatten()"
      ]
    },
    {
      "cell_type": "code",
      "execution_count": 38,
      "metadata": {
        "colab": {
          "base_uri": "https://localhost:8080/",
          "height": 362
        },
        "id": "Rlk7hgm2VwuL",
        "outputId": "ec5b6920-c2aa-41f8-d360-79bd18a4b6cb"
      },
      "outputs": [
        {
          "data": {
            "text/html": [
              "<div>\n",
              "<style scoped>\n",
              "    .dataframe tbody tr th:only-of-type {\n",
              "        vertical-align: middle;\n",
              "    }\n",
              "\n",
              "    .dataframe tbody tr th {\n",
              "        vertical-align: top;\n",
              "    }\n",
              "\n",
              "    .dataframe thead th {\n",
              "        text-align: right;\n",
              "    }\n",
              "</style>\n",
              "<table border=\"1\" class=\"dataframe\">\n",
              "  <thead>\n",
              "    <tr style=\"text-align: right;\">\n",
              "      <th></th>\n",
              "      <th>Actual y_value</th>\n",
              "      <th>Predicted y_value</th>\n",
              "    </tr>\n",
              "  </thead>\n",
              "  <tbody>\n",
              "    <tr>\n",
              "      <th>0</th>\n",
              "      <td>64926.08</td>\n",
              "      <td>40628.164062</td>\n",
              "    </tr>\n",
              "    <tr>\n",
              "      <th>1</th>\n",
              "      <td>146121.95</td>\n",
              "      <td>129178.367188</td>\n",
              "    </tr>\n",
              "    <tr>\n",
              "      <th>2</th>\n",
              "      <td>90708.19</td>\n",
              "      <td>79105.140625</td>\n",
              "    </tr>\n",
              "    <tr>\n",
              "      <th>3</th>\n",
              "      <td>191050.39</td>\n",
              "      <td>179122.031250</td>\n",
              "    </tr>\n",
              "    <tr>\n",
              "      <th>4</th>\n",
              "      <td>108552.04</td>\n",
              "      <td>99790.421875</td>\n",
              "    </tr>\n",
              "    <tr>\n",
              "      <th>5</th>\n",
              "      <td>144259.40</td>\n",
              "      <td>124080.664062</td>\n",
              "    </tr>\n",
              "    <tr>\n",
              "      <th>6</th>\n",
              "      <td>124266.90</td>\n",
              "      <td>128792.093750</td>\n",
              "    </tr>\n",
              "    <tr>\n",
              "      <th>7</th>\n",
              "      <td>155752.60</td>\n",
              "      <td>169205.953125</td>\n",
              "    </tr>\n",
              "    <tr>\n",
              "      <th>8</th>\n",
              "      <td>126992.93</td>\n",
              "      <td>118555.265625</td>\n",
              "    </tr>\n",
              "    <tr>\n",
              "      <th>9</th>\n",
              "      <td>42559.73</td>\n",
              "      <td>43346.468750</td>\n",
              "    </tr>\n",
              "  </tbody>\n",
              "</table>\n",
              "</div>"
            ],
            "text/plain": [
              "   Actual y_value  Predicted y_value\n",
              "0        64926.08       40628.164062\n",
              "1       146121.95      129178.367188\n",
              "2        90708.19       79105.140625\n",
              "3       191050.39      179122.031250\n",
              "4       108552.04       99790.421875\n",
              "5       144259.40      124080.664062\n",
              "6       124266.90      128792.093750\n",
              "7       155752.60      169205.953125\n",
              "8       126992.93      118555.265625\n",
              "9        42559.73       43346.468750"
            ]
          },
          "execution_count": 38,
          "metadata": {},
          "output_type": "execute_result"
        }
      ],
      "source": [
        "# Comparing the actual and predicted y values\n",
        "pd.DataFrame({'Actual y_value':y_test.flatten(),'Predicted y_value':y_pred.flatten()}).head(10)"
      ]
    },
    {
      "cell_type": "markdown",
      "metadata": {},
      "source": [
        "# Predictive analysis"
      ]
    },
    {
      "cell_type": "code",
      "execution_count": 39,
      "metadata": {
        "colab": {
          "base_uri": "https://localhost:8080/"
        },
        "id": "9wVMR1HbWLTx",
        "outputId": "c53e9b7b-1188-4097-e9e5-ef82f1dba75c"
      },
      "outputs": [
        {
          "name": "stdout",
          "output_type": "stream",
          "text": [
            "1/1 [==============================] - 0s 110ms/step\n"
          ]
        },
        {
          "data": {
            "text/plain": [
              "array([[164133.84]], dtype=float32)"
            ]
          },
          "execution_count": 39,
          "metadata": {},
          "output_type": "execute_result"
        }
      ],
      "source": [
        "# testing with random values\n",
        "regressor.predict([[142107.34,91391.77,366168.42,2]])"
      ]
    },
    {
      "cell_type": "code",
      "execution_count": 40,
      "metadata": {
        "colab": {
          "base_uri": "https://localhost:8080/"
        },
        "id": "_D3Tew7GW4H1",
        "outputId": "071b8079-6d88-4082-c005-a717a48370d7"
      },
      "outputs": [
        {
          "name": "stdout",
          "output_type": "stream",
          "text": [
            "1/1 [==============================] - 0s 107ms/step\n"
          ]
        },
        {
          "data": {
            "text/plain": [
              "array([[143083.45]], dtype=float32)"
            ]
          },
          "execution_count": 40,
          "metadata": {},
          "output_type": "execute_result"
        }
      ],
      "source": [
        "regressor.predict([[144107.12,118671.85,12345.42,0]])"
      ]
    }
  ],
  "metadata": {
    "colab": {
      "provenance": []
    },
    "kernelspec": {
      "display_name": "Python 3",
      "name": "python3"
    },
    "language_info": {
      "codemirror_mode": {
        "name": "ipython",
        "version": 3
      },
      "file_extension": ".py",
      "mimetype": "text/x-python",
      "name": "python",
      "nbconvert_exporter": "python",
      "pygments_lexer": "ipython3",
      "version": "3.11.4"
    }
  },
  "nbformat": 4,
  "nbformat_minor": 0
}
