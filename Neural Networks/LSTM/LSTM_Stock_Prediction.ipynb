{
  "cells": [
    {
      "cell_type": "code",
      "execution_count": 1,
      "metadata": {
        "id": "CezZWVigQIb_"
      },
      "outputs": [],
      "source": [
        "import numpy as np\n",
        "import pandas as pd\n",
        "from tensorflow.keras.models import Sequential\n",
        "from tensorflow.keras.layers import LSTM, Dense"
      ]
    },
    {
      "cell_type": "code",
      "execution_count": 2,
      "metadata": {
        "colab": {
          "base_uri": "https://localhost:8080/",
          "height": 206
        },
        "id": "2yRP7NIDQNCb",
        "outputId": "bfc16bf0-bb5c-42b7-b581-c6f9a948de89"
      },
      "outputs": [
        {
          "data": {
            "text/html": [
              "<div>\n",
              "<style scoped>\n",
              "    .dataframe tbody tr th:only-of-type {\n",
              "        vertical-align: middle;\n",
              "    }\n",
              "\n",
              "    .dataframe tbody tr th {\n",
              "        vertical-align: top;\n",
              "    }\n",
              "\n",
              "    .dataframe thead th {\n",
              "        text-align: right;\n",
              "    }\n",
              "</style>\n",
              "<table border=\"1\" class=\"dataframe\">\n",
              "  <thead>\n",
              "    <tr style=\"text-align: right;\">\n",
              "      <th></th>\n",
              "      <th>Date</th>\n",
              "      <th>Open</th>\n",
              "      <th>High</th>\n",
              "      <th>Low</th>\n",
              "      <th>Close</th>\n",
              "      <th>Volume</th>\n",
              "    </tr>\n",
              "  </thead>\n",
              "  <tbody>\n",
              "    <tr>\n",
              "      <th>0</th>\n",
              "      <td>1/3/2012</td>\n",
              "      <td>325.25</td>\n",
              "      <td>332.83</td>\n",
              "      <td>324.97</td>\n",
              "      <td>663.59</td>\n",
              "      <td>7,380,500</td>\n",
              "    </tr>\n",
              "    <tr>\n",
              "      <th>1</th>\n",
              "      <td>1/4/2012</td>\n",
              "      <td>331.27</td>\n",
              "      <td>333.87</td>\n",
              "      <td>329.08</td>\n",
              "      <td>666.45</td>\n",
              "      <td>5,749,400</td>\n",
              "    </tr>\n",
              "    <tr>\n",
              "      <th>2</th>\n",
              "      <td>1/5/2012</td>\n",
              "      <td>329.83</td>\n",
              "      <td>330.75</td>\n",
              "      <td>326.89</td>\n",
              "      <td>657.21</td>\n",
              "      <td>6,590,300</td>\n",
              "    </tr>\n",
              "    <tr>\n",
              "      <th>3</th>\n",
              "      <td>1/6/2012</td>\n",
              "      <td>328.34</td>\n",
              "      <td>328.77</td>\n",
              "      <td>323.68</td>\n",
              "      <td>648.24</td>\n",
              "      <td>5,405,900</td>\n",
              "    </tr>\n",
              "    <tr>\n",
              "      <th>4</th>\n",
              "      <td>1/9/2012</td>\n",
              "      <td>322.04</td>\n",
              "      <td>322.29</td>\n",
              "      <td>309.46</td>\n",
              "      <td>620.76</td>\n",
              "      <td>11,688,800</td>\n",
              "    </tr>\n",
              "  </tbody>\n",
              "</table>\n",
              "</div>"
            ],
            "text/plain": [
              "       Date    Open    High     Low   Close      Volume\n",
              "0  1/3/2012  325.25  332.83  324.97  663.59   7,380,500\n",
              "1  1/4/2012  331.27  333.87  329.08  666.45   5,749,400\n",
              "2  1/5/2012  329.83  330.75  326.89  657.21   6,590,300\n",
              "3  1/6/2012  328.34  328.77  323.68  648.24   5,405,900\n",
              "4  1/9/2012  322.04  322.29  309.46  620.76  11,688,800"
            ]
          },
          "execution_count": 2,
          "metadata": {},
          "output_type": "execute_result"
        }
      ],
      "source": [
        "df = pd.read_csv(\"C:\\\\Users\\\\varun\\\\OneDrive\\\\Desktop\\\\Fall Sem\\\\Smart Internz AI&ML\\\\10_LSTM\\\\Google_Stock_Price_Train (1).csv\")\n",
        "df.head()"
      ]
    },
    {
      "cell_type": "markdown",
      "metadata": {
        "id": "uxCisvDCQYmm"
      },
      "source": [
        "# Data Preprocessing"
      ]
    },
    {
      "cell_type": "code",
      "execution_count": 3,
      "metadata": {
        "colab": {
          "base_uri": "https://localhost:8080/"
        },
        "id": "Ax_L3uHrQXLn",
        "outputId": "e55311af-8150-422d-e816-9f3ce3e91511"
      },
      "outputs": [
        {
          "data": {
            "text/plain": [
              "Date      0\n",
              "Open      0\n",
              "High      0\n",
              "Low       0\n",
              "Close     0\n",
              "Volume    0\n",
              "dtype: int64"
            ]
          },
          "execution_count": 3,
          "metadata": {},
          "output_type": "execute_result"
        }
      ],
      "source": [
        "df.isnull().sum()"
      ]
    },
    {
      "cell_type": "code",
      "execution_count": 4,
      "metadata": {
        "colab": {
          "base_uri": "https://localhost:8080/"
        },
        "id": "G7Tr6wfcQd_0",
        "outputId": "4f2a49c7-4b48-4a5f-db6c-d36a0322b3bf"
      },
      "outputs": [
        {
          "name": "stdout",
          "output_type": "stream",
          "text": [
            "<class 'pandas.core.frame.DataFrame'>\n",
            "RangeIndex: 1258 entries, 0 to 1257\n",
            "Data columns (total 6 columns):\n",
            " #   Column  Non-Null Count  Dtype  \n",
            "---  ------  --------------  -----  \n",
            " 0   Date    1258 non-null   object \n",
            " 1   Open    1258 non-null   float64\n",
            " 2   High    1258 non-null   float64\n",
            " 3   Low     1258 non-null   float64\n",
            " 4   Close   1258 non-null   object \n",
            " 5   Volume  1258 non-null   object \n",
            "dtypes: float64(3), object(3)\n",
            "memory usage: 59.1+ KB\n"
          ]
        }
      ],
      "source": [
        "df.info()"
      ]
    },
    {
      "cell_type": "markdown",
      "metadata": {
        "id": "CTs7XlxkVUh9"
      },
      "source": [
        "# Feature selection for timeseries prediction"
      ]
    },
    {
      "cell_type": "code",
      "execution_count": 5,
      "metadata": {
        "colab": {
          "base_uri": "https://localhost:8080/"
        },
        "id": "kqEyyLtVQfz8",
        "outputId": "ed3c57b9-dbdf-4603-bfe8-bf8807c4c938"
      },
      "outputs": [
        {
          "data": {
            "text/plain": [
              "array([[325.25],\n",
              "       [331.27],\n",
              "       [329.83],\n",
              "       ...,\n",
              "       [793.7 ],\n",
              "       [783.33],\n",
              "       [782.75]])"
            ]
          },
          "execution_count": 5,
          "metadata": {},
          "output_type": "execute_result"
        }
      ],
      "source": [
        " #Only one column should be used for LSTM model\n",
        "\n",
        "train = df.iloc[:,1:2].values\n",
        "train"
      ]
    },
    {
      "cell_type": "code",
      "execution_count": 6,
      "metadata": {
        "colab": {
          "base_uri": "https://localhost:8080/",
          "height": 447
        },
        "id": "Ag2VTG7kR30-",
        "outputId": "db555ffd-98aa-4f21-9729-0e46ef8927b6"
      },
      "outputs": [
        {
          "data": {
            "text/plain": [
              "<Axes: >"
            ]
          },
          "execution_count": 6,
          "metadata": {},
          "output_type": "execute_result"
        },
        {
          "data": {
            "image/png": "[encoded data removed]",
            "text/plain": [
              "<Figure size 640x480 with 1 Axes>"
            ]
          },
          "metadata": {},
          "output_type": "display_data"
        }
      ],
      "source": [
        "import seaborn as sns\n",
        "sns.boxplot(train)"
      ]
    },
    {
      "cell_type": "code",
      "execution_count": 7,
      "metadata": {
        "colab": {
          "base_uri": "https://localhost:8080/"
        },
        "id": "6q1mMh2ZR8P5",
        "outputId": "cde1ecf5-6feb-4c29-c5f5-37770b497961"
      },
      "outputs": [
        {
          "data": {
            "text/plain": [
              "array([[0.08581368],\n",
              "       [0.09701243],\n",
              "       [0.09433366],\n",
              "       ...,\n",
              "       [0.95725128],\n",
              "       [0.93796041],\n",
              "       [0.93688146]])"
            ]
          },
          "execution_count": 7,
          "metadata": {},
          "output_type": "execute_result"
        }
      ],
      "source": [
        "#Scaling\n",
        "from sklearn.preprocessing import MinMaxScaler\n",
        "sc=MinMaxScaler()\n",
        "train=sc.fit_transform(train)\n",
        "train"
      ]
    },
    {
      "cell_type": "code",
      "execution_count": 8,
      "metadata": {
        "id": "HdX7tneLSOE7"
      },
      "outputs": [
        {
          "data": {
            "text/plain": [
              "'\\n\\nData = 1,2,3,4,5,6,7,8,9,10    t(timestamp)=3\\n\\nInput for LSTM Model\\nC1  C2  C3  O/P\\n1   2   3    4\\n2   3   4    5\\n3   4   5    6\\n4   5   6    7\\n5   6   7    8\\n6   7   8    9\\n7   8   9    10\\n\\nOutput for LSTM\\n\\n8   9   10   11\\n\\n'"
            ]
          },
          "execution_count": 8,
          "metadata": {},
          "output_type": "execute_result"
        }
      ],
      "source": [
        "\n",
        "\"\"\"\n",
        "\n",
        "Data = 1,2,3,4,5,6,7,8,9,10    t(timestamp)=3\n",
        "\n",
        "Input for LSTM Model\n",
        "C1  C2  C3  O/P\n",
        "1   2   3    4\n",
        "2   3   4    5\n",
        "3   4   5    6\n",
        "4   5   6    7\n",
        "5   6   7    8\n",
        "6   7   8    9\n",
        "7   8   9    10\n",
        "\n",
        "Output for LSTM\n",
        "\n",
        "8   9   10   11\n",
        "\n",
        "\"\"\""
      ]
    },
    {
      "cell_type": "code",
      "execution_count": 9,
      "metadata": {
        "colab": {
          "base_uri": "https://localhost:8080/"
        },
        "id": "iZBjBJBLTvix",
        "outputId": "9f34f0b1-9fcf-4a94-f8f0-3e9128f9a5c1"
      },
      "outputs": [
        {
          "data": {
            "text/plain": [
              "1258"
            ]
          },
          "execution_count": 9,
          "metadata": {},
          "output_type": "execute_result"
        }
      ],
      "source": [
        "len(train)"
      ]
    },
    {
      "cell_type": "code",
      "execution_count": 10,
      "metadata": {
        "colab": {
          "base_uri": "https://localhost:8080/"
        },
        "id": "PqqTChXXTxdy",
        "outputId": "eccfb607-ae43-4591-f566-30e31dc05166"
      },
      "outputs": [
        {
          "data": {
            "text/plain": [
              "((1198, 60), (1198,))"
            ]
          },
          "execution_count": 10,
          "metadata": {},
          "output_type": "execute_result"
        }
      ],
      "source": [
        "# Splitting the data with 60 as time step similar to frame length\n",
        "\n",
        "x_train = []\n",
        "y_train = []\n",
        "\n",
        "for i in range(60,1258):  # t=60\n",
        "  x_train.append(train[i-60:i,0])  # [:,:]\n",
        "  y_train.append(train[i,0])\n",
        "x_train=np.array(x_train)\n",
        "y_train=np.array(y_train)\n",
        "x_train.shape,y_train.shape"
      ]
    },
    {
      "cell_type": "code",
      "execution_count": 11,
      "metadata": {
        "colab": {
          "base_uri": "https://localhost:8080/"
        },
        "id": "PxTnupzIVgyF",
        "outputId": "5db4cfcc-8ac3-4746-e180-ff9f1d8a363d"
      },
      "outputs": [
        {
          "data": {
            "text/plain": [
              "array([[0.08581368, 0.09701243, 0.09433366, ..., 0.07846566, 0.08034452,\n",
              "        0.08497656],\n",
              "       [0.09701243, 0.09433366, 0.09156187, ..., 0.08034452, 0.08497656,\n",
              "        0.08627874],\n",
              "       [0.09433366, 0.09156187, 0.07984225, ..., 0.08497656, 0.08627874,\n",
              "        0.08471612],\n",
              "       ...,\n",
              "       [0.92106928, 0.92438053, 0.93048218, ..., 0.95475854, 0.95204256,\n",
              "        0.95163331],\n",
              "       [0.92438053, 0.93048218, 0.9299055 , ..., 0.95204256, 0.95163331,\n",
              "        0.95725128],\n",
              "       [0.93048218, 0.9299055 , 0.93113327, ..., 0.95163331, 0.95725128,\n",
              "        0.93796041]])"
            ]
          },
          "execution_count": 11,
          "metadata": {},
          "output_type": "execute_result"
        }
      ],
      "source": [
        "x_train"
      ]
    },
    {
      "cell_type": "code",
      "execution_count": 12,
      "metadata": {
        "colab": {
          "base_uri": "https://localhost:8080/"
        },
        "id": "W8RDVArTVzga",
        "outputId": "32e13fec-3f02-4ff6-b4a7-7370c7c17942"
      },
      "outputs": [
        {
          "data": {
            "text/plain": [
              "array([0.08627874, 0.08471612, 0.07454052, ..., 0.95725128, 0.93796041,\n",
              "       0.93688146])"
            ]
          },
          "execution_count": 12,
          "metadata": {},
          "output_type": "execute_result"
        }
      ],
      "source": [
        "y_train"
      ]
    },
    {
      "cell_type": "markdown",
      "metadata": {
        "id": "v5SaeLwjWcz4"
      },
      "source": [
        "# Creating a channel coz lstm requires the standard format"
      ]
    },
    {
      "cell_type": "code",
      "execution_count": 13,
      "metadata": {
        "colab": {
          "base_uri": "https://localhost:8080/"
        },
        "id": "inhQfbRGV9yq",
        "outputId": "e2c00571-6df2-4031-e883-5f8591f6711a"
      },
      "outputs": [
        {
          "data": {
            "text/plain": [
              "(1198, 60, 1)"
            ]
          },
          "execution_count": 13,
          "metadata": {},
          "output_type": "execute_result"
        }
      ],
      "source": [
        "# (1198, 60) to (1198, 60, 1)\n",
        "x_train = x_train.reshape((1198, 60, 1))\n",
        "x_train.shape"
      ]
    },
    {
      "cell_type": "markdown",
      "metadata": {
        "id": "egGY2ZSmWsOn"
      },
      "source": [
        "# Model Definition"
      ]
    },
    {
      "cell_type": "code",
      "execution_count": 32,
      "metadata": {
        "id": "44spMn-vWm3q"
      },
      "outputs": [],
      "source": [
        "from tensorflow.keras.layers import LeakyReLU\n",
        "\n",
        "# Building LSTM model\n",
        "\n",
        "model = Sequential()\n",
        "model.add(LSTM(50, input_shape=(60,1),return_sequences=True,activation='relu'))\n",
        "model.add(LSTM(50,return_sequences=True,activation='LeakyReLU'))\n",
        "model.add(LSTM(50,return_sequences=True,activation='linear'))\n",
        "model.add(Dense(1))"
      ]
    },
    {
      "cell_type": "code",
      "execution_count": 33,
      "metadata": {
        "colab": {
          "base_uri": "https://localhost:8080/"
        },
        "id": "frOl1b2vWwSR",
        "outputId": "0729d209-d81c-46b2-d43f-1fc2186449f0"
      },
      "outputs": [
        {
          "name": "stdout",
          "output_type": "stream",
          "text": [
            "Model: \"sequential_6\"\n",
            "_________________________________________________________________\n",
            " Layer (type)                Output Shape              Param #   \n",
            "=================================================================\n",
            " lstm_15 (LSTM)              (None, 60, 50)            10400     \n",
            "                                                                 \n",
            " lstm_16 (LSTM)              (None, 60, 50)            20200     \n",
            "                                                                 \n",
            " lstm_17 (LSTM)              (None, 60, 50)            20200     \n",
            "                                                                 \n",
            " dense_5 (Dense)             (None, 60, 1)             51        \n",
            "                                                                 \n",
            "=================================================================\n",
            "Total params: 50851 (198.64 KB)\n",
            "Trainable params: 50851 (198.64 KB)\n",
            "Non-trainable params: 0 (0.00 Byte)\n",
            "_________________________________________________________________\n"
          ]
        }
      ],
      "source": [
        "model.summary()"
      ]
    },
    {
      "cell_type": "code",
      "execution_count": 34,
      "metadata": {
        "id": "wE88s8NFWzKx"
      },
      "outputs": [],
      "source": [
        "model.compile(optimizer='adam',loss='mse',metrics='accuracy')"
      ]
    },
    {
      "cell_type": "code",
      "execution_count": 35,
      "metadata": {
        "colab": {
          "base_uri": "https://localhost:8080/"
        },
        "id": "bwlZbPmWW8ED",
        "outputId": "5d4bd43f-00e6-4e8a-a335-80b64fb28435"
      },
      "outputs": [
        {
          "name": "stdout",
          "output_type": "stream",
          "text": [
            "Epoch 1/30\n",
            "60/60 [==============================] - 18s 145ms/step - loss: 0.0739 - accuracy: 0.0010 - val_loss: 0.1672 - val_accuracy: 0.0032\n",
            "Epoch 2/30\n",
            "60/60 [==============================] - 8s 137ms/step - loss: 0.0531 - accuracy: 0.0010 - val_loss: 0.1654 - val_accuracy: 0.0034\n",
            "Epoch 3/30\n",
            "60/60 [==============================] - 8s 135ms/step - loss: 0.0526 - accuracy: 0.0010 - val_loss: 0.2011 - val_accuracy: 0.0000e+00\n",
            "Epoch 4/30\n",
            "60/60 [==============================] - 7s 117ms/step - loss: 0.0514 - accuracy: 0.0010 - val_loss: 0.1962 - val_accuracy: 0.0000e+00\n",
            "Epoch 5/30\n",
            "60/60 [==============================] - 4s 69ms/step - loss: 0.0504 - accuracy: 0.0010 - val_loss: 0.1665 - val_accuracy: 0.0000e+00\n",
            "Epoch 6/30\n",
            "60/60 [==============================] - 3s 58ms/step - loss: 0.0510 - accuracy: 0.0010 - val_loss: 0.1924 - val_accuracy: 0.0000e+00\n",
            "Epoch 7/30\n",
            "60/60 [==============================] - 4s 59ms/step - loss: 0.0499 - accuracy: 0.0010 - val_loss: 0.2182 - val_accuracy: 0.0000e+00\n",
            "Epoch 8/30\n",
            "60/60 [==============================] - 3s 55ms/step - loss: 0.0498 - accuracy: 0.0010 - val_loss: 0.2136 - val_accuracy: 0.0000e+00\n",
            "Epoch 9/30\n",
            "60/60 [==============================] - 5s 77ms/step - loss: 0.0499 - accuracy: 0.0010 - val_loss: 0.1659 - val_accuracy: 0.0000e+00\n",
            "Epoch 10/30\n",
            "60/60 [==============================] - 4s 60ms/step - loss: 0.0499 - accuracy: 0.0010 - val_loss: 0.2031 - val_accuracy: 0.0000e+00\n",
            "Epoch 11/30\n",
            "60/60 [==============================] - 4s 70ms/step - loss: 0.0494 - accuracy: 0.0010 - val_loss: 0.2174 - val_accuracy: 0.0000e+00\n",
            "Epoch 12/30\n",
            "60/60 [==============================] - 7s 124ms/step - loss: 0.0492 - accuracy: 0.0010 - val_loss: 0.1851 - val_accuracy: 0.0000e+00\n",
            "Epoch 13/30\n",
            "60/60 [==============================] - 7s 116ms/step - loss: 0.0493 - accuracy: 0.0010 - val_loss: 0.2029 - val_accuracy: 0.0000e+00\n",
            "Epoch 14/30\n",
            "60/60 [==============================] - 7s 117ms/step - loss: 0.0491 - accuracy: 0.0010 - val_loss: 0.1915 - val_accuracy: 0.0000e+00\n",
            "Epoch 15/30\n",
            "60/60 [==============================] - 8s 132ms/step - loss: 0.0495 - accuracy: 0.0010 - val_loss: 0.2308 - val_accuracy: 0.0000e+00\n",
            "Epoch 16/30\n",
            "60/60 [==============================] - 8s 131ms/step - loss: 0.0493 - accuracy: 0.0010 - val_loss: 0.2175 - val_accuracy: 0.0000e+00\n",
            "Epoch 17/30\n",
            "60/60 [==============================] - 8s 127ms/step - loss: 0.0496 - accuracy: 0.0010 - val_loss: 0.2011 - val_accuracy: 0.0000e+00\n",
            "Epoch 18/30\n",
            "60/60 [==============================] - 7s 120ms/step - loss: 0.0493 - accuracy: 0.0010 - val_loss: 0.2143 - val_accuracy: 0.0000e+00\n",
            "Epoch 19/30\n",
            "60/60 [==============================] - 7s 121ms/step - loss: 0.0491 - accuracy: 0.0010 - val_loss: 0.2145 - val_accuracy: 0.0000e+00\n",
            "Epoch 20/30\n",
            "60/60 [==============================] - 7s 125ms/step - loss: 0.0488 - accuracy: 0.0010 - val_loss: 0.1918 - val_accuracy: 0.0000e+00\n",
            "Epoch 21/30\n",
            "60/60 [==============================] - 8s 137ms/step - loss: 0.0486 - accuracy: 0.0010 - val_loss: 0.1526 - val_accuracy: 0.0000e+00\n",
            "Epoch 22/30\n",
            "60/60 [==============================] - 8s 134ms/step - loss: 0.0493 - accuracy: 0.0010 - val_loss: 0.1959 - val_accuracy: 0.0000e+00\n",
            "Epoch 23/30\n",
            "60/60 [==============================] - 7s 125ms/step - loss: 0.0490 - accuracy: 0.0010 - val_loss: 0.2108 - val_accuracy: 0.0000e+00\n",
            "Epoch 24/30\n",
            "60/60 [==============================] - 8s 130ms/step - loss: 0.0489 - accuracy: 0.0010 - val_loss: 0.2009 - val_accuracy: 0.0000e+00\n",
            "Epoch 25/30\n",
            "60/60 [==============================] - 8s 130ms/step - loss: 0.0490 - accuracy: 0.0010 - val_loss: 0.2099 - val_accuracy: 0.0000e+00\n",
            "Epoch 26/30\n",
            "60/60 [==============================] - 8s 126ms/step - loss: 0.0487 - accuracy: 0.0010 - val_loss: 0.2282 - val_accuracy: 0.0000e+00\n",
            "Epoch 27/30\n",
            "60/60 [==============================] - 8s 126ms/step - loss: 0.0487 - accuracy: 0.0010 - val_loss: 0.2210 - val_accuracy: 0.0000e+00\n",
            "Epoch 28/30\n",
            "60/60 [==============================] - 7s 120ms/step - loss: 0.0491 - accuracy: 0.0010 - val_loss: 0.1938 - val_accuracy: 0.0000e+00\n",
            "Epoch 29/30\n",
            "60/60 [==============================] - 8s 129ms/step - loss: 0.0488 - accuracy: 0.0010 - val_loss: 0.1976 - val_accuracy: 0.0000e+00\n",
            "Epoch 30/30\n",
            "60/60 [==============================] - 7s 123ms/step - loss: 0.0488 - accuracy: 0.0010 - val_loss: 0.2031 - val_accuracy: 0.0000e+00\n"
          ]
        },
        {
          "data": {
            "text/plain": [
              "<keras.src.callbacks.History at 0x2c0cdeb4dd0>"
            ]
          },
          "execution_count": 35,
          "metadata": {},
          "output_type": "execute_result"
        }
      ],
      "source": [
        "model.fit(x_train,y_train,batch_size=16,epochs=30,validation_split=0.2)"
      ]
    },
    {
      "cell_type": "code",
      "execution_count": null,
      "metadata": {
        "colab": {
          "base_uri": "https://localhost:8080/"
        },
        "id": "CExevcnbXHZx",
        "outputId": "eaa3006e-06b5-45d8-c6a9-5cf5a4464a74"
      },
      "outputs": [
        {
          "name": "stdout",
          "output_type": "stream",
          "text": [
            "2/2 [==============================] - 1s 7ms/step\n"
          ]
        },
        {
          "data": {
            "text/plain": [
              "array([[[0.40584198]],\n",
              "\n",
              "       [[0.4060286 ]],\n",
              "\n",
              "       [[0.40598392]],\n",
              "\n",
              "       [[0.40593773]],\n",
              "\n",
              "       [[0.40574253]],\n",
              "\n",
              "       [[0.40548462]],\n",
              "\n",
              "       [[0.4053886 ]],\n",
              "\n",
              "       [[0.40550718]],\n",
              "\n",
              "       [[0.40543085]],\n",
              "\n",
              "       [[0.40551892]],\n",
              "\n",
              "       [[0.4054364 ]],\n",
              "\n",
              "       [[0.40565774]],\n",
              "\n",
              "       [[0.40488228]],\n",
              "\n",
              "       [[0.40481308]],\n",
              "\n",
              "       [[0.404818  ]],\n",
              "\n",
              "       [[0.40468317]],\n",
              "\n",
              "       [[0.40459844]],\n",
              "\n",
              "       [[0.40458003]],\n",
              "\n",
              "       [[0.40469146]],\n",
              "\n",
              "       [[0.40476704]],\n",
              "\n",
              "       [[0.40479684]],\n",
              "\n",
              "       [[0.4047956 ]],\n",
              "\n",
              "       [[0.40488443]],\n",
              "\n",
              "       [[0.40495092]],\n",
              "\n",
              "       [[0.40513718]],\n",
              "\n",
              "       [[0.40515995]],\n",
              "\n",
              "       [[0.40521204]],\n",
              "\n",
              "       [[0.40514857]],\n",
              "\n",
              "       [[0.40518865]],\n",
              "\n",
              "       [[0.40520468]],\n",
              "\n",
              "       [[0.40522596]],\n",
              "\n",
              "       [[0.40507063]],\n",
              "\n",
              "       [[0.4051039 ]],\n",
              "\n",
              "       [[0.40508696]],\n",
              "\n",
              "       [[0.40521112]],\n",
              "\n",
              "       [[0.405135  ]],\n",
              "\n",
              "       [[0.40514025]],\n",
              "\n",
              "       [[0.40512857]],\n",
              "\n",
              "       [[0.40518096]],\n",
              "\n",
              "       [[0.40531293]],\n",
              "\n",
              "       [[0.40536943]],\n",
              "\n",
              "       [[0.4053654 ]],\n",
              "\n",
              "       [[0.4053413 ]],\n",
              "\n",
              "       [[0.40515104]],\n",
              "\n",
              "       [[0.40516648]],\n",
              "\n",
              "       [[0.40518153]],\n",
              "\n",
              "       [[0.40514952]],\n",
              "\n",
              "       [[0.40502754]],\n",
              "\n",
              "       [[0.40516183]],\n",
              "\n",
              "       [[0.4052577 ]],\n",
              "\n",
              "       [[0.4052824 ]],\n",
              "\n",
              "       [[0.40534842]],\n",
              "\n",
              "       [[0.40538272]],\n",
              "\n",
              "       [[0.40550247]],\n",
              "\n",
              "       [[0.40555942]],\n",
              "\n",
              "       [[0.4056194 ]],\n",
              "\n",
              "       [[0.40574408]],\n",
              "\n",
              "       [[0.40571964]],\n",
              "\n",
              "       [[0.4057509 ]],\n",
              "\n",
              "       [[0.405828  ]]], dtype=float32)"
            ]
          },
          "execution_count": 24,
          "metadata": {},
          "output_type": "execute_result"
        }
      ],
      "source": [
        "model.predict(x_train[0])"
      ]
    },
    {
      "cell_type": "code",
      "execution_count": null,
      "metadata": {},
      "outputs": [],
      "source": []
    }
  ],
  "metadata": {
    "accelerator": "GPU",
    "colab": {
      "gpuType": "T4",
      "provenance": []
    },
    "kernelspec": {
      "display_name": "Python 3",
      "name": "python3"
    },
    "language_info": {
      "codemirror_mode": {
        "name": "ipython",
        "version": 3
      },
      "file_extension": ".py",
      "mimetype": "text/x-python",
      "name": "python",
      "nbconvert_exporter": "python",
      "pygments_lexer": "ipython3",
      "version": "3.11.4"
    }
  },
  "nbformat": 4,
  "nbformat_minor": 0
}
