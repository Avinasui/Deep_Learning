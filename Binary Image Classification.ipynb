{
 "cells": [
  {
   "cell_type": "code",
   "execution_count": 1,
   "metadata": {},
   "outputs": [],
   "source": [
    "import tensorflow as tf\n",
    "import numpy as np\n",
    "from tensorflow import keras\n",
    "import os\n",
    "import cv2\n",
    "from tensorflow.keras.preprocessing.image import ImageDataGenerator\n",
    "from tensorflow.keras.preprocessing import image\n",
    "import matplotlib.pyplot as plt"
   ]
  },
  {
   "cell_type": "code",
   "execution_count": 2,
   "metadata": {},
   "outputs": [
    {
     "name": "stdout",
     "output_type": "stream",
     "text": [
      "Found 557 images belonging to 2 classes.\n",
      "Found 140 images belonging to 2 classes.\n"
     ]
    }
   ],
   "source": [
    "train = ImageDataGenerator(rescale=1/255)\n",
    "test = ImageDataGenerator(rescale=1/255)\n",
    "\n",
    "train_dataset = train.flow_from_directory(\"C:/Users/varun/OneDrive/Desktop/Train\",\n",
    "                                          target_size=(64,64),\n",
    "                                          batch_size = 32,\n",
    "                                          class_mode = 'binary')\n",
    "                                         \n",
    "test_dataset = test.flow_from_directory(\"C:\\\\Users\\\\varun\\\\OneDrive\\\\Desktop\\\\Test\",\n",
    "                                          target_size=(64,64),\n",
    "                                          batch_size =32,\n",
    "                                          class_mode = 'binary')"
   ]
  },
  {
   "cell_type": "code",
   "execution_count": 3,
   "metadata": {},
   "outputs": [
    {
     "data": {
      "text/plain": [
       "{'cats': 0, 'dogs': 1}"
      ]
     },
     "execution_count": 3,
     "metadata": {},
     "output_type": "execute_result"
    }
   ],
   "source": [
    "test_dataset.class_indices"
   ]
  },
  {
   "cell_type": "code",
   "execution_count": 4,
   "metadata": {},
   "outputs": [],
   "source": [
    "model = keras.Sequential()\n",
    "\n",
    "# Convolutional layer and maxpool layer 1\n",
    "model.add(keras.layers.Conv2D(32,(3,3),activation='relu',input_shape=(64,64,3)))\n",
    "model.add(keras.layers.MaxPool2D(2,2))\n",
    "\n",
    "# Convolutional layer and maxpool layer 2\n",
    "model.add(keras.layers.Conv2D(64,(3,3),activation='relu'))\n",
    "model.add(keras.layers.MaxPool2D(2,2))\n",
    "\n",
    "# Convolutional layer and maxpool layer 3\n",
    "model.add(keras.layers.Conv2D(128,(3,3),activation='relu'))\n",
    "model.add(keras.layers.MaxPool2D(2,2))\n",
    "\n",
    "# Convolutional layer and maxpool layer 4\n",
    "model.add(keras.layers.Conv2D(128,(3,3),activation='relu'))\n",
    "model.add(keras.layers.MaxPool2D(2,2))\n",
    "\n",
    "# This layer flattens the resulting image array to 1D array\n",
    "model.add(keras.layers.Flatten())\n",
    "\n",
    "# Hidden layer with 512 neurons and Rectified Linear Unit activation function \n",
    "model.add(keras.layers.Dense(512,activation='relu'))\n",
    "\n",
    "# Output layer with single neuron which gives 0 for Cat or 1 for Dog \n",
    "#Here we use sigmoid activation function which makes our model output to lie between 0 and 1\n",
    "model.add(keras.layers.Dense(1,activation='sigmoid'))"
   ]
  },
  {
   "cell_type": "code",
   "execution_count": 5,
   "metadata": {},
   "outputs": [
    {
     "name": "stdout",
     "output_type": "stream",
     "text": [
      "Epoch 1/30\n",
      "16/16 [==============================] - 20s 1s/step - loss: 0.6983 - accuracy: 0.5132 - val_loss: 0.6927 - val_accuracy: 0.5000\n",
      "Epoch 2/30\n",
      "16/16 [==============================] - 12s 775ms/step - loss: 0.6933 - accuracy: 0.4949 - val_loss: 0.6929 - val_accuracy: 0.5000\n",
      "Epoch 3/30\n",
      "16/16 [==============================] - 12s 748ms/step - loss: 0.6941 - accuracy: 0.4707 - val_loss: 0.6922 - val_accuracy: 0.5571\n",
      "Epoch 4/30\n",
      "16/16 [==============================] - 6s 374ms/step - loss: 0.6928 - accuracy: 0.5172 - val_loss: 0.6923 - val_accuracy: 0.5786\n",
      "Epoch 5/30\n",
      "16/16 [==============================] - 5s 281ms/step - loss: 0.6900 - accuracy: 0.5375 - val_loss: 0.6902 - val_accuracy: 0.5429\n",
      "Epoch 6/30\n",
      "16/16 [==============================] - 11s 726ms/step - loss: 0.6710 - accuracy: 0.5822 - val_loss: 0.7011 - val_accuracy: 0.5286\n",
      "Epoch 7/30\n",
      "16/16 [==============================] - 11s 658ms/step - loss: 0.6300 - accuracy: 0.6572 - val_loss: 0.7099 - val_accuracy: 0.5286\n",
      "Epoch 8/30\n",
      "16/16 [==============================] - 11s 679ms/step - loss: 0.6018 - accuracy: 0.6673 - val_loss: 0.7475 - val_accuracy: 0.5500\n",
      "Epoch 9/30\n",
      "16/16 [==============================] - 11s 694ms/step - loss: 0.5735 - accuracy: 0.6876 - val_loss: 0.6678 - val_accuracy: 0.6286\n",
      "Epoch 10/30\n",
      "16/16 [==============================] - ETA: 0s - loss: 0.5159 - accuracy: 0.7444"
     ]
    }
   ],
   "source": [
    "model.compile(optimizer='adam',loss='binary_crossentropy',metrics=['accuracy'])\n",
    "model.fit(train_dataset,\n",
    "         steps_per_epoch = 16,\n",
    "         epochs = 30,\n",
    "         validation_data = test_dataset\n",
    "\n",
    "         )"
   ]
  },
  {
   "cell_type": "code",
   "execution_count": null,
   "metadata": {},
   "outputs": [],
   "source": [
    "def predictImage(filename):\n",
    "    img1 = image.load_img(filename,target_size=(64,64))\n",
    "    \n",
    "    plt.imshow(img1)\n",
    " \n",
    "    Y = image.img_to_array(img1)\n",
    "    \n",
    "    X = np.expand_dims(Y,axis=0)\n",
    "    val = model.predict(X)\n",
    "    print(val)\n",
    "    if val == 1:\n",
    "        \n",
    "        plt.xlabel(\"DOG\",fontsize=30)\n",
    "        \n",
    "    \n",
    "    elif val == 0:\n",
    "        \n",
    "        plt.xlabel(\"CAT\",fontsize=30)"
   ]
  },
  {
   "cell_type": "code",
   "execution_count": null,
   "metadata": {},
   "outputs": [
    {
     "ename": "NameError",
     "evalue": "name 'predictImage' is not defined",
     "output_type": "error",
     "traceback": [
      "\u001b[1;31m---------------------------------------------------------------------------\u001b[0m",
      "\u001b[1;31mNameError\u001b[0m                                 Traceback (most recent call last)",
      "\u001b[1;32mc:\\Users\\varun\\OneDrive\\Desktop\\Fall Sem\\Binary Image Classification.ipynb Cell 7\u001b[0m line \u001b[0;36m1\n\u001b[1;32m----> <a href='vscode-notebook-cell:/c%3A/Users/varun/OneDrive/Desktop/Fall%20Sem/Binary%20Image%20Classification.ipynb#W6sZmlsZQ%3D%3D?line=0'>1</a>\u001b[0m predictImage(\u001b[39m\"\u001b[39m\u001b[39mC:\u001b[39m\u001b[39m\\\\\u001b[39;00m\u001b[39mUsers\u001b[39m\u001b[39m\\\\\u001b[39;00m\u001b[39mvarun\u001b[39m\u001b[39m\\\\\u001b[39;00m\u001b[39mOneDrive\u001b[39m\u001b[39m\\\\\u001b[39;00m\u001b[39mDesktop\u001b[39m\u001b[39m\\\\\u001b[39;00m\u001b[39mTest\u001b[39m\u001b[39m\\\\\u001b[39;00m\u001b[39mdogs\u001b[39m\u001b[39m\\\\\u001b[39;00m\u001b[39mdog_266.jpg\u001b[39m\u001b[39m\"\u001b[39m)\n",
      "\u001b[1;31mNameError\u001b[0m: name 'predictImage' is not defined"
     ]
    }
   ],
   "source": [
    "predictImage(\"C:\\\\Users\\\\varun\\\\OneDrive\\\\Desktop\\\\Test\\\\dogs\\\\dog_266.jpg\")"
   ]
  }
 ],
 "metadata": {
  "kernelspec": {
   "display_name": "vsc",
   "language": "python",
   "name": "python3"
  },
  "language_info": {
   "codemirror_mode": {
    "name": "ipython",
    "version": 3
   },
   "file_extension": ".py",
   "mimetype": "text/x-python",
   "name": "python",
   "nbconvert_exporter": "python",
   "pygments_lexer": "ipython3",
   "version": "3.11.4"
  },
  "orig_nbformat": 4
 },
 "nbformat": 4,
 "nbformat_minor": 2
}
